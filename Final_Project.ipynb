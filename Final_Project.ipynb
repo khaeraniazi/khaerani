{
  "nbformat": 4,
  "nbformat_minor": 0,
  "metadata": {
    "colab": {
      "provenance": [],
      "include_colab_link": true
    },
    "kernelspec": {
      "name": "python3",
      "display_name": "Python 3"
    },
    "language_info": {
      "name": "python"
    }
  },
  "cells": [
    {
      "cell_type": "markdown",
      "metadata": {
        "id": "view-in-github",
        "colab_type": "text"
      },
      "source": [
        "<a href=\"https://colab.research.google.com/github/khaeraniazi/khaerani/blob/master/Final_Project.ipynb\" target=\"_parent\"><img src=\"https://colab.research.google.com/assets/colab-badge.svg\" alt=\"Open In Colab\"/></a>"
      ]
    },
    {
      "cell_type": "markdown",
      "source": [
        "## Final Project \n",
        "Nama : \n",
        "\n",
        "*   Viny Gilang Ramadhan\n",
        "*   Khaerani Nur Azizah\n",
        "\n",
        "*   Chintya N Mandalahi\n",
        "*   Yogi P Herfen\n",
        "\n",
        "##### Final project kali ini menggunakan dataset Feedback karyawan Telkomsel terkait IT pada tahun 2022. Project kali ini akan membuat sistem pengklasifikasian sentiment positif, negatif, dan atau netral terhadap feedback yang telah diberikan. nantinya hasil model kali ini dapat digunakan untuk memprediksi sentiment pada feedback yang baru.\n",
        "\n",
        "Penjelasan Dataset : \n",
        "1. Apakah ada saran atau masukan untuk IT / Do you have suggestions or feedback for IT? --> ini adalah column feedback yang diisi user.\n",
        "2. Hastag1 --> Keyword Feedback\n",
        "3. Hastag2 --> Detail Feedback\n",
        "4. Sentiment --> Sentiment berupa positif, negativ, atau netral terhadap feedback yang diberikan oleh user."
      ],
      "metadata": {
        "id": "0BMkYdeK2NbR"
      }
    },
    {
      "cell_type": "code",
      "source": [
        "import pandas as pd\n",
        "import numpy as np\n",
        "import matplotlib.pyplot as plt\n",
        "import seaborn as sns\n",
        "import sklearn\n",
        "from sklearn.metrics import classification_report\n",
        "import matplotlib.pyplot as plt\n",
        "%matplotlib inline"
      ],
      "metadata": {
        "id": "XSECLqCY3Azk"
      },
      "execution_count": null,
      "outputs": []
    },
    {
      "cell_type": "code",
      "source": [
        "from google.colab import drive\n",
        "import os\n",
        "# ganti alamat penyimpanan file pada drive\n",
        "drive.mount('/content/drive')\n",
        "os.chdir(\"/content/drive/My Drive/Training\") #viny drive\n",
        "\n",
        "fileNames = os.listdir()\n",
        "print(fileNames)\n",
        "print(\"Done load list\")"
      ],
      "metadata": {
        "colab": {
          "base_uri": "https://localhost:8080/"
        },
        "id": "P-K_gqTQ273c",
        "outputId": "257cbe37-6707-40f4-c283-b719a6f29685"
      },
      "execution_count": null,
      "outputs": [
        {
          "output_type": "stream",
          "name": "stdout",
          "text": [
            "Mounted at /content/drive\n",
            "['Salary_dataset.csv', 'video2919435720.mp4', 'emails.csv', 'FeedbackIT.xlsx', 'Final_Project.ipynb']\n",
            "Done load list\n"
          ]
        }
      ]
    },
    {
      "cell_type": "code",
      "source": [
        "df = pd.read_excel(\"FeedbackIT.xlsx\")\n",
        "df.head()"
      ],
      "metadata": {
        "colab": {
          "base_uri": "https://localhost:8080/",
          "height": 337
        },
        "id": "WOczGDDV4ewM",
        "outputId": "985ec53a-6409-4181-abc6-471fd7ed797d"
      },
      "execution_count": null,
      "outputs": [
        {
          "output_type": "execute_result",
          "data": {
            "text/plain": [
              "   No  \\\n",
              "0   1   \n",
              "1   2   \n",
              "2   3   \n",
              "3   4   \n",
              "4   5   \n",
              "\n",
              "  Apakah ada saran atau masukan untuk IT / Do you have suggestions or feedback for IT?  \\\n",
              "0                          sudah bagus fast response                                     \n",
              "1  Menurut saya, IT sudah sangat baik dalam membe...                                     \n",
              "2                                  Sudah sangat baik                                     \n",
              "3                                                NaN                                     \n",
              "4                Kemudahan akses masuk k wifi kantor                                     \n",
              "\n",
              "  Hastag1               Hastag2 sentiment decode  \n",
              "0     NaN                   NaN          Neutral  \n",
              "1      IT         IT sudah baik          Positif  \n",
              "2    Baik  Servce IT sudah baik          Positif  \n",
              "3     NaN                   NaN              NaN  \n",
              "4    WIFI     akses tidak mudah          Positif  "
            ],
            "text/html": [
              "\n",
              "  <div id=\"df-a8d0ef87-10c7-43d7-8919-a9dc06ca8837\">\n",
              "    <div class=\"colab-df-container\">\n",
              "      <div>\n",
              "<style scoped>\n",
              "    .dataframe tbody tr th:only-of-type {\n",
              "        vertical-align: middle;\n",
              "    }\n",
              "\n",
              "    .dataframe tbody tr th {\n",
              "        vertical-align: top;\n",
              "    }\n",
              "\n",
              "    .dataframe thead th {\n",
              "        text-align: right;\n",
              "    }\n",
              "</style>\n",
              "<table border=\"1\" class=\"dataframe\">\n",
              "  <thead>\n",
              "    <tr style=\"text-align: right;\">\n",
              "      <th></th>\n",
              "      <th>No</th>\n",
              "      <th>Apakah ada saran atau masukan untuk IT / Do you have suggestions or feedback for IT?</th>\n",
              "      <th>Hastag1</th>\n",
              "      <th>Hastag2</th>\n",
              "      <th>sentiment decode</th>\n",
              "    </tr>\n",
              "  </thead>\n",
              "  <tbody>\n",
              "    <tr>\n",
              "      <th>0</th>\n",
              "      <td>1</td>\n",
              "      <td>sudah bagus fast response</td>\n",
              "      <td>NaN</td>\n",
              "      <td>NaN</td>\n",
              "      <td>Neutral</td>\n",
              "    </tr>\n",
              "    <tr>\n",
              "      <th>1</th>\n",
              "      <td>2</td>\n",
              "      <td>Menurut saya, IT sudah sangat baik dalam membe...</td>\n",
              "      <td>IT</td>\n",
              "      <td>IT sudah baik</td>\n",
              "      <td>Positif</td>\n",
              "    </tr>\n",
              "    <tr>\n",
              "      <th>2</th>\n",
              "      <td>3</td>\n",
              "      <td>Sudah sangat baik</td>\n",
              "      <td>Baik</td>\n",
              "      <td>Servce IT sudah baik</td>\n",
              "      <td>Positif</td>\n",
              "    </tr>\n",
              "    <tr>\n",
              "      <th>3</th>\n",
              "      <td>4</td>\n",
              "      <td>NaN</td>\n",
              "      <td>NaN</td>\n",
              "      <td>NaN</td>\n",
              "      <td>NaN</td>\n",
              "    </tr>\n",
              "    <tr>\n",
              "      <th>4</th>\n",
              "      <td>5</td>\n",
              "      <td>Kemudahan akses masuk k wifi kantor</td>\n",
              "      <td>WIFI</td>\n",
              "      <td>akses tidak mudah</td>\n",
              "      <td>Positif</td>\n",
              "    </tr>\n",
              "  </tbody>\n",
              "</table>\n",
              "</div>\n",
              "      <button class=\"colab-df-convert\" onclick=\"convertToInteractive('df-a8d0ef87-10c7-43d7-8919-a9dc06ca8837')\"\n",
              "              title=\"Convert this dataframe to an interactive table.\"\n",
              "              style=\"display:none;\">\n",
              "        \n",
              "  <svg xmlns=\"http://www.w3.org/2000/svg\" height=\"24px\"viewBox=\"0 0 24 24\"\n",
              "       width=\"24px\">\n",
              "    <path d=\"M0 0h24v24H0V0z\" fill=\"none\"/>\n",
              "    <path d=\"M18.56 5.44l.94 2.06.94-2.06 2.06-.94-2.06-.94-.94-2.06-.94 2.06-2.06.94zm-11 1L8.5 8.5l.94-2.06 2.06-.94-2.06-.94L8.5 2.5l-.94 2.06-2.06.94zm10 10l.94 2.06.94-2.06 2.06-.94-2.06-.94-.94-2.06-.94 2.06-2.06.94z\"/><path d=\"M17.41 7.96l-1.37-1.37c-.4-.4-.92-.59-1.43-.59-.52 0-1.04.2-1.43.59L10.3 9.45l-7.72 7.72c-.78.78-.78 2.05 0 2.83L4 21.41c.39.39.9.59 1.41.59.51 0 1.02-.2 1.41-.59l7.78-7.78 2.81-2.81c.8-.78.8-2.07 0-2.86zM5.41 20L4 18.59l7.72-7.72 1.47 1.35L5.41 20z\"/>\n",
              "  </svg>\n",
              "      </button>\n",
              "      \n",
              "  <style>\n",
              "    .colab-df-container {\n",
              "      display:flex;\n",
              "      flex-wrap:wrap;\n",
              "      gap: 12px;\n",
              "    }\n",
              "\n",
              "    .colab-df-convert {\n",
              "      background-color: #E8F0FE;\n",
              "      border: none;\n",
              "      border-radius: 50%;\n",
              "      cursor: pointer;\n",
              "      display: none;\n",
              "      fill: #1967D2;\n",
              "      height: 32px;\n",
              "      padding: 0 0 0 0;\n",
              "      width: 32px;\n",
              "    }\n",
              "\n",
              "    .colab-df-convert:hover {\n",
              "      background-color: #E2EBFA;\n",
              "      box-shadow: 0px 1px 2px rgba(60, 64, 67, 0.3), 0px 1px 3px 1px rgba(60, 64, 67, 0.15);\n",
              "      fill: #174EA6;\n",
              "    }\n",
              "\n",
              "    [theme=dark] .colab-df-convert {\n",
              "      background-color: #3B4455;\n",
              "      fill: #D2E3FC;\n",
              "    }\n",
              "\n",
              "    [theme=dark] .colab-df-convert:hover {\n",
              "      background-color: #434B5C;\n",
              "      box-shadow: 0px 1px 3px 1px rgba(0, 0, 0, 0.15);\n",
              "      filter: drop-shadow(0px 1px 2px rgba(0, 0, 0, 0.3));\n",
              "      fill: #FFFFFF;\n",
              "    }\n",
              "  </style>\n",
              "\n",
              "      <script>\n",
              "        const buttonEl =\n",
              "          document.querySelector('#df-a8d0ef87-10c7-43d7-8919-a9dc06ca8837 button.colab-df-convert');\n",
              "        buttonEl.style.display =\n",
              "          google.colab.kernel.accessAllowed ? 'block' : 'none';\n",
              "\n",
              "        async function convertToInteractive(key) {\n",
              "          const element = document.querySelector('#df-a8d0ef87-10c7-43d7-8919-a9dc06ca8837');\n",
              "          const dataTable =\n",
              "            await google.colab.kernel.invokeFunction('convertToInteractive',\n",
              "                                                     [key], {});\n",
              "          if (!dataTable) return;\n",
              "\n",
              "          const docLinkHtml = 'Like what you see? Visit the ' +\n",
              "            '<a target=\"_blank\" href=https://colab.research.google.com/notebooks/data_table.ipynb>data table notebook</a>'\n",
              "            + ' to learn more about interactive tables.';\n",
              "          element.innerHTML = '';\n",
              "          dataTable['output_type'] = 'display_data';\n",
              "          await google.colab.output.renderOutput(dataTable, element);\n",
              "          const docLink = document.createElement('div');\n",
              "          docLink.innerHTML = docLinkHtml;\n",
              "          element.appendChild(docLink);\n",
              "        }\n",
              "      </script>\n",
              "    </div>\n",
              "  </div>\n",
              "  "
            ]
          },
          "metadata": {},
          "execution_count": 3
        }
      ]
    },
    {
      "cell_type": "markdown",
      "source": [
        "### EDA"
      ],
      "metadata": {
        "id": "GGq4yLGdDCXq"
      }
    },
    {
      "cell_type": "code",
      "source": [
        "df.info()"
      ],
      "metadata": {
        "colab": {
          "base_uri": "https://localhost:8080/"
        },
        "id": "klc9H0oR7SG1",
        "outputId": "8bb7faed-a6cf-43fa-97da-d32b8f822abb"
      },
      "execution_count": null,
      "outputs": [
        {
          "output_type": "stream",
          "name": "stdout",
          "text": [
            "<class 'pandas.core.frame.DataFrame'>\n",
            "RangeIndex: 983 entries, 0 to 982\n",
            "Data columns (total 5 columns):\n",
            " #   Column                                                                                Non-Null Count  Dtype \n",
            "---  ------                                                                                --------------  ----- \n",
            " 0   No                                                                                    983 non-null    int64 \n",
            " 1   Apakah ada saran atau masukan untuk IT / Do you have suggestions or feedback for IT?  896 non-null    object\n",
            " 2   Hastag1                                                                               612 non-null    object\n",
            " 3   Hastag2                                                                               424 non-null    object\n",
            " 4   sentiment decode                                                                      896 non-null    object\n",
            "dtypes: int64(1), object(4)\n",
            "memory usage: 38.5+ KB\n"
          ]
        }
      ]
    },
    {
      "cell_type": "code",
      "source": [
        "df.describe()"
      ],
      "metadata": {
        "colab": {
          "base_uri": "https://localhost:8080/",
          "height": 300
        },
        "id": "wlRp48Gn7Ths",
        "outputId": "c037b37b-afdc-4219-e00d-0e7bf2d1e17a"
      },
      "execution_count": null,
      "outputs": [
        {
          "output_type": "execute_result",
          "data": {
            "text/plain": [
              "               No\n",
              "count  983.000000\n",
              "mean   495.436419\n",
              "std    286.884699\n",
              "min      1.000000\n",
              "25%    247.500000\n",
              "50%    493.000000\n",
              "75%    745.500000\n",
              "max    991.000000"
            ],
            "text/html": [
              "\n",
              "  <div id=\"df-703b7b0b-0729-4f0e-b1a2-df67a5141772\">\n",
              "    <div class=\"colab-df-container\">\n",
              "      <div>\n",
              "<style scoped>\n",
              "    .dataframe tbody tr th:only-of-type {\n",
              "        vertical-align: middle;\n",
              "    }\n",
              "\n",
              "    .dataframe tbody tr th {\n",
              "        vertical-align: top;\n",
              "    }\n",
              "\n",
              "    .dataframe thead th {\n",
              "        text-align: right;\n",
              "    }\n",
              "</style>\n",
              "<table border=\"1\" class=\"dataframe\">\n",
              "  <thead>\n",
              "    <tr style=\"text-align: right;\">\n",
              "      <th></th>\n",
              "      <th>No</th>\n",
              "    </tr>\n",
              "  </thead>\n",
              "  <tbody>\n",
              "    <tr>\n",
              "      <th>count</th>\n",
              "      <td>983.000000</td>\n",
              "    </tr>\n",
              "    <tr>\n",
              "      <th>mean</th>\n",
              "      <td>495.436419</td>\n",
              "    </tr>\n",
              "    <tr>\n",
              "      <th>std</th>\n",
              "      <td>286.884699</td>\n",
              "    </tr>\n",
              "    <tr>\n",
              "      <th>min</th>\n",
              "      <td>1.000000</td>\n",
              "    </tr>\n",
              "    <tr>\n",
              "      <th>25%</th>\n",
              "      <td>247.500000</td>\n",
              "    </tr>\n",
              "    <tr>\n",
              "      <th>50%</th>\n",
              "      <td>493.000000</td>\n",
              "    </tr>\n",
              "    <tr>\n",
              "      <th>75%</th>\n",
              "      <td>745.500000</td>\n",
              "    </tr>\n",
              "    <tr>\n",
              "      <th>max</th>\n",
              "      <td>991.000000</td>\n",
              "    </tr>\n",
              "  </tbody>\n",
              "</table>\n",
              "</div>\n",
              "      <button class=\"colab-df-convert\" onclick=\"convertToInteractive('df-703b7b0b-0729-4f0e-b1a2-df67a5141772')\"\n",
              "              title=\"Convert this dataframe to an interactive table.\"\n",
              "              style=\"display:none;\">\n",
              "        \n",
              "  <svg xmlns=\"http://www.w3.org/2000/svg\" height=\"24px\"viewBox=\"0 0 24 24\"\n",
              "       width=\"24px\">\n",
              "    <path d=\"M0 0h24v24H0V0z\" fill=\"none\"/>\n",
              "    <path d=\"M18.56 5.44l.94 2.06.94-2.06 2.06-.94-2.06-.94-.94-2.06-.94 2.06-2.06.94zm-11 1L8.5 8.5l.94-2.06 2.06-.94-2.06-.94L8.5 2.5l-.94 2.06-2.06.94zm10 10l.94 2.06.94-2.06 2.06-.94-2.06-.94-.94-2.06-.94 2.06-2.06.94z\"/><path d=\"M17.41 7.96l-1.37-1.37c-.4-.4-.92-.59-1.43-.59-.52 0-1.04.2-1.43.59L10.3 9.45l-7.72 7.72c-.78.78-.78 2.05 0 2.83L4 21.41c.39.39.9.59 1.41.59.51 0 1.02-.2 1.41-.59l7.78-7.78 2.81-2.81c.8-.78.8-2.07 0-2.86zM5.41 20L4 18.59l7.72-7.72 1.47 1.35L5.41 20z\"/>\n",
              "  </svg>\n",
              "      </button>\n",
              "      \n",
              "  <style>\n",
              "    .colab-df-container {\n",
              "      display:flex;\n",
              "      flex-wrap:wrap;\n",
              "      gap: 12px;\n",
              "    }\n",
              "\n",
              "    .colab-df-convert {\n",
              "      background-color: #E8F0FE;\n",
              "      border: none;\n",
              "      border-radius: 50%;\n",
              "      cursor: pointer;\n",
              "      display: none;\n",
              "      fill: #1967D2;\n",
              "      height: 32px;\n",
              "      padding: 0 0 0 0;\n",
              "      width: 32px;\n",
              "    }\n",
              "\n",
              "    .colab-df-convert:hover {\n",
              "      background-color: #E2EBFA;\n",
              "      box-shadow: 0px 1px 2px rgba(60, 64, 67, 0.3), 0px 1px 3px 1px rgba(60, 64, 67, 0.15);\n",
              "      fill: #174EA6;\n",
              "    }\n",
              "\n",
              "    [theme=dark] .colab-df-convert {\n",
              "      background-color: #3B4455;\n",
              "      fill: #D2E3FC;\n",
              "    }\n",
              "\n",
              "    [theme=dark] .colab-df-convert:hover {\n",
              "      background-color: #434B5C;\n",
              "      box-shadow: 0px 1px 3px 1px rgba(0, 0, 0, 0.15);\n",
              "      filter: drop-shadow(0px 1px 2px rgba(0, 0, 0, 0.3));\n",
              "      fill: #FFFFFF;\n",
              "    }\n",
              "  </style>\n",
              "\n",
              "      <script>\n",
              "        const buttonEl =\n",
              "          document.querySelector('#df-703b7b0b-0729-4f0e-b1a2-df67a5141772 button.colab-df-convert');\n",
              "        buttonEl.style.display =\n",
              "          google.colab.kernel.accessAllowed ? 'block' : 'none';\n",
              "\n",
              "        async function convertToInteractive(key) {\n",
              "          const element = document.querySelector('#df-703b7b0b-0729-4f0e-b1a2-df67a5141772');\n",
              "          const dataTable =\n",
              "            await google.colab.kernel.invokeFunction('convertToInteractive',\n",
              "                                                     [key], {});\n",
              "          if (!dataTable) return;\n",
              "\n",
              "          const docLinkHtml = 'Like what you see? Visit the ' +\n",
              "            '<a target=\"_blank\" href=https://colab.research.google.com/notebooks/data_table.ipynb>data table notebook</a>'\n",
              "            + ' to learn more about interactive tables.';\n",
              "          element.innerHTML = '';\n",
              "          dataTable['output_type'] = 'display_data';\n",
              "          await google.colab.output.renderOutput(dataTable, element);\n",
              "          const docLink = document.createElement('div');\n",
              "          docLink.innerHTML = docLinkHtml;\n",
              "          element.appendChild(docLink);\n",
              "        }\n",
              "      </script>\n",
              "    </div>\n",
              "  </div>\n",
              "  "
            ]
          },
          "metadata": {},
          "execution_count": 5
        }
      ]
    },
    {
      "cell_type": "code",
      "source": [
        "df.shape"
      ],
      "metadata": {
        "colab": {
          "base_uri": "https://localhost:8080/"
        },
        "id": "IE80aoig7Vf6",
        "outputId": "1ce19c61-7530-4176-d389-4f332be01f16"
      },
      "execution_count": null,
      "outputs": [
        {
          "output_type": "execute_result",
          "data": {
            "text/plain": [
              "(983, 5)"
            ]
          },
          "metadata": {},
          "execution_count": 6
        }
      ]
    },
    {
      "cell_type": "code",
      "source": [
        "df.isnull().sum()"
      ],
      "metadata": {
        "colab": {
          "base_uri": "https://localhost:8080/"
        },
        "id": "M5brgJcoFZ1E",
        "outputId": "edfcb03a-96ff-447e-c300-fa1373cc06a1"
      },
      "execution_count": null,
      "outputs": [
        {
          "output_type": "execute_result",
          "data": {
            "text/plain": [
              "No                                                                                        0\n",
              "Apakah ada saran atau masukan untuk IT / Do you have suggestions or feedback for IT?     87\n",
              "Hastag1                                                                                 371\n",
              "Hastag2                                                                                 559\n",
              "sentiment decode                                                                         87\n",
              "dtype: int64"
            ]
          },
          "metadata": {},
          "execution_count": 7
        }
      ]
    },
    {
      "cell_type": "code",
      "execution_count": null,
      "metadata": {
        "colab": {
          "base_uri": "https://localhost:8080/",
          "height": 627
        },
        "id": "ZxEjdSGR2HA3",
        "outputId": "049d5772-efe5-47d9-8f05-f2042f90b994"
      },
      "outputs": [
        {
          "output_type": "stream",
          "name": "stderr",
          "text": [
            "<ipython-input-8-8a63f87a3d26>:1: FutureWarning: DataFrame.set_axis 'inplace' keyword is deprecated and will be removed in a future version. Use `obj = obj.set_axis(..., copy=False)` instead\n",
            "  df.set_axis(['No', 'Feedback', 'Hastag1', 'Hastag2', 'Sentiment'], axis='columns', inplace= True)\n"
          ]
        },
        {
          "output_type": "execute_result",
          "data": {
            "text/plain": [
              "      No                                           Feedback Hastag1  \\\n",
              "0      1                          sudah bagus fast response     NaN   \n",
              "1      2  Menurut saya, IT sudah sangat baik dalam membe...      IT   \n",
              "2      3                                  Sudah sangat baik    Baik   \n",
              "3      4                                                NaN     NaN   \n",
              "4      5                Kemudahan akses masuk k wifi kantor    WIFI   \n",
              "..   ...                                                ...     ...   \n",
              "978  987  Keren sejauh ini selalu fast respon dan member...     NaN   \n",
              "979  988                                              nihil     NaN   \n",
              "980  989  share informasi terkait perkembangan tenologi ...      IT   \n",
              "981  990  SLA terkait dengan service dan data processing...      IT   \n",
              "982  991      Follow up Perbaikan Permasalahan kurang cepat   Cepat   \n",
              "\n",
              "                      Hastag2 Sentiment  \n",
              "0                         NaN   Neutral  \n",
              "1               IT sudah baik   Positif  \n",
              "2        Servce IT sudah baik   Positif  \n",
              "3                         NaN       NaN  \n",
              "4           akses tidak mudah   Positif  \n",
              "..                        ...       ...  \n",
              "978                       NaN   Positif  \n",
              "979                       NaN   Neutral  \n",
              "980  Sosialisasi teknologi IT   Positif  \n",
              "981              Data quality   Positif  \n",
              "982      IT harus lebih cepat   Negatif  \n",
              "\n",
              "[983 rows x 5 columns]"
            ],
            "text/html": [
              "\n",
              "  <div id=\"df-69319e74-b5fc-4d89-9174-e7ebc4facd19\">\n",
              "    <div class=\"colab-df-container\">\n",
              "      <div>\n",
              "<style scoped>\n",
              "    .dataframe tbody tr th:only-of-type {\n",
              "        vertical-align: middle;\n",
              "    }\n",
              "\n",
              "    .dataframe tbody tr th {\n",
              "        vertical-align: top;\n",
              "    }\n",
              "\n",
              "    .dataframe thead th {\n",
              "        text-align: right;\n",
              "    }\n",
              "</style>\n",
              "<table border=\"1\" class=\"dataframe\">\n",
              "  <thead>\n",
              "    <tr style=\"text-align: right;\">\n",
              "      <th></th>\n",
              "      <th>No</th>\n",
              "      <th>Feedback</th>\n",
              "      <th>Hastag1</th>\n",
              "      <th>Hastag2</th>\n",
              "      <th>Sentiment</th>\n",
              "    </tr>\n",
              "  </thead>\n",
              "  <tbody>\n",
              "    <tr>\n",
              "      <th>0</th>\n",
              "      <td>1</td>\n",
              "      <td>sudah bagus fast response</td>\n",
              "      <td>NaN</td>\n",
              "      <td>NaN</td>\n",
              "      <td>Neutral</td>\n",
              "    </tr>\n",
              "    <tr>\n",
              "      <th>1</th>\n",
              "      <td>2</td>\n",
              "      <td>Menurut saya, IT sudah sangat baik dalam membe...</td>\n",
              "      <td>IT</td>\n",
              "      <td>IT sudah baik</td>\n",
              "      <td>Positif</td>\n",
              "    </tr>\n",
              "    <tr>\n",
              "      <th>2</th>\n",
              "      <td>3</td>\n",
              "      <td>Sudah sangat baik</td>\n",
              "      <td>Baik</td>\n",
              "      <td>Servce IT sudah baik</td>\n",
              "      <td>Positif</td>\n",
              "    </tr>\n",
              "    <tr>\n",
              "      <th>3</th>\n",
              "      <td>4</td>\n",
              "      <td>NaN</td>\n",
              "      <td>NaN</td>\n",
              "      <td>NaN</td>\n",
              "      <td>NaN</td>\n",
              "    </tr>\n",
              "    <tr>\n",
              "      <th>4</th>\n",
              "      <td>5</td>\n",
              "      <td>Kemudahan akses masuk k wifi kantor</td>\n",
              "      <td>WIFI</td>\n",
              "      <td>akses tidak mudah</td>\n",
              "      <td>Positif</td>\n",
              "    </tr>\n",
              "    <tr>\n",
              "      <th>...</th>\n",
              "      <td>...</td>\n",
              "      <td>...</td>\n",
              "      <td>...</td>\n",
              "      <td>...</td>\n",
              "      <td>...</td>\n",
              "    </tr>\n",
              "    <tr>\n",
              "      <th>978</th>\n",
              "      <td>987</td>\n",
              "      <td>Keren sejauh ini selalu fast respon dan member...</td>\n",
              "      <td>NaN</td>\n",
              "      <td>NaN</td>\n",
              "      <td>Positif</td>\n",
              "    </tr>\n",
              "    <tr>\n",
              "      <th>979</th>\n",
              "      <td>988</td>\n",
              "      <td>nihil</td>\n",
              "      <td>NaN</td>\n",
              "      <td>NaN</td>\n",
              "      <td>Neutral</td>\n",
              "    </tr>\n",
              "    <tr>\n",
              "      <th>980</th>\n",
              "      <td>989</td>\n",
              "      <td>share informasi terkait perkembangan tenologi ...</td>\n",
              "      <td>IT</td>\n",
              "      <td>Sosialisasi teknologi IT</td>\n",
              "      <td>Positif</td>\n",
              "    </tr>\n",
              "    <tr>\n",
              "      <th>981</th>\n",
              "      <td>990</td>\n",
              "      <td>SLA terkait dengan service dan data processing...</td>\n",
              "      <td>IT</td>\n",
              "      <td>Data quality</td>\n",
              "      <td>Positif</td>\n",
              "    </tr>\n",
              "    <tr>\n",
              "      <th>982</th>\n",
              "      <td>991</td>\n",
              "      <td>Follow up Perbaikan Permasalahan kurang cepat</td>\n",
              "      <td>Cepat</td>\n",
              "      <td>IT harus lebih cepat</td>\n",
              "      <td>Negatif</td>\n",
              "    </tr>\n",
              "  </tbody>\n",
              "</table>\n",
              "<p>983 rows × 5 columns</p>\n",
              "</div>\n",
              "      <button class=\"colab-df-convert\" onclick=\"convertToInteractive('df-69319e74-b5fc-4d89-9174-e7ebc4facd19')\"\n",
              "              title=\"Convert this dataframe to an interactive table.\"\n",
              "              style=\"display:none;\">\n",
              "        \n",
              "  <svg xmlns=\"http://www.w3.org/2000/svg\" height=\"24px\"viewBox=\"0 0 24 24\"\n",
              "       width=\"24px\">\n",
              "    <path d=\"M0 0h24v24H0V0z\" fill=\"none\"/>\n",
              "    <path d=\"M18.56 5.44l.94 2.06.94-2.06 2.06-.94-2.06-.94-.94-2.06-.94 2.06-2.06.94zm-11 1L8.5 8.5l.94-2.06 2.06-.94-2.06-.94L8.5 2.5l-.94 2.06-2.06.94zm10 10l.94 2.06.94-2.06 2.06-.94-2.06-.94-.94-2.06-.94 2.06-2.06.94z\"/><path d=\"M17.41 7.96l-1.37-1.37c-.4-.4-.92-.59-1.43-.59-.52 0-1.04.2-1.43.59L10.3 9.45l-7.72 7.72c-.78.78-.78 2.05 0 2.83L4 21.41c.39.39.9.59 1.41.59.51 0 1.02-.2 1.41-.59l7.78-7.78 2.81-2.81c.8-.78.8-2.07 0-2.86zM5.41 20L4 18.59l7.72-7.72 1.47 1.35L5.41 20z\"/>\n",
              "  </svg>\n",
              "      </button>\n",
              "      \n",
              "  <style>\n",
              "    .colab-df-container {\n",
              "      display:flex;\n",
              "      flex-wrap:wrap;\n",
              "      gap: 12px;\n",
              "    }\n",
              "\n",
              "    .colab-df-convert {\n",
              "      background-color: #E8F0FE;\n",
              "      border: none;\n",
              "      border-radius: 50%;\n",
              "      cursor: pointer;\n",
              "      display: none;\n",
              "      fill: #1967D2;\n",
              "      height: 32px;\n",
              "      padding: 0 0 0 0;\n",
              "      width: 32px;\n",
              "    }\n",
              "\n",
              "    .colab-df-convert:hover {\n",
              "      background-color: #E2EBFA;\n",
              "      box-shadow: 0px 1px 2px rgba(60, 64, 67, 0.3), 0px 1px 3px 1px rgba(60, 64, 67, 0.15);\n",
              "      fill: #174EA6;\n",
              "    }\n",
              "\n",
              "    [theme=dark] .colab-df-convert {\n",
              "      background-color: #3B4455;\n",
              "      fill: #D2E3FC;\n",
              "    }\n",
              "\n",
              "    [theme=dark] .colab-df-convert:hover {\n",
              "      background-color: #434B5C;\n",
              "      box-shadow: 0px 1px 3px 1px rgba(0, 0, 0, 0.15);\n",
              "      filter: drop-shadow(0px 1px 2px rgba(0, 0, 0, 0.3));\n",
              "      fill: #FFFFFF;\n",
              "    }\n",
              "  </style>\n",
              "\n",
              "      <script>\n",
              "        const buttonEl =\n",
              "          document.querySelector('#df-69319e74-b5fc-4d89-9174-e7ebc4facd19 button.colab-df-convert');\n",
              "        buttonEl.style.display =\n",
              "          google.colab.kernel.accessAllowed ? 'block' : 'none';\n",
              "\n",
              "        async function convertToInteractive(key) {\n",
              "          const element = document.querySelector('#df-69319e74-b5fc-4d89-9174-e7ebc4facd19');\n",
              "          const dataTable =\n",
              "            await google.colab.kernel.invokeFunction('convertToInteractive',\n",
              "                                                     [key], {});\n",
              "          if (!dataTable) return;\n",
              "\n",
              "          const docLinkHtml = 'Like what you see? Visit the ' +\n",
              "            '<a target=\"_blank\" href=https://colab.research.google.com/notebooks/data_table.ipynb>data table notebook</a>'\n",
              "            + ' to learn more about interactive tables.';\n",
              "          element.innerHTML = '';\n",
              "          dataTable['output_type'] = 'display_data';\n",
              "          await google.colab.output.renderOutput(dataTable, element);\n",
              "          const docLink = document.createElement('div');\n",
              "          docLink.innerHTML = docLinkHtml;\n",
              "          element.appendChild(docLink);\n",
              "        }\n",
              "      </script>\n",
              "    </div>\n",
              "  </div>\n",
              "  "
            ]
          },
          "metadata": {},
          "execution_count": 8
        }
      ],
      "source": [
        "df.set_axis(['No', 'Feedback', 'Hastag1', 'Hastag2', 'Sentiment'], axis='columns', inplace= True)\n",
        "df"
      ]
    },
    {
      "cell_type": "code",
      "source": [
        "hashtag_counts = df['Hastag1'].value_counts().head(10)\n",
        "\n",
        "# Membuat plot barh\n",
        "fig, ax = plt.subplots(figsize=(10,6))\n",
        "hashtag_counts.plot(kind='barh', color='#FFA07A', ax=ax)\n",
        "\n",
        "# Mengatur label dan judul\n",
        "ax.set_xlabel('Jumlah')\n",
        "ax.set_ylabel('Hashtag')\n",
        "ax.set_title('General Feedback')\n",
        "\n",
        "# Menambahkan label pada data\n",
        "for i in range(len(hashtag_counts)):\n",
        "    ax.text(hashtag_counts.iloc[i], i, str(hashtag_counts.iloc[i]), ha='left', va='center')\n",
        "\n",
        "# Menampilkan plot\n",
        "plt.show()"
      ],
      "metadata": {
        "colab": {
          "base_uri": "https://localhost:8080/",
          "height": 406
        },
        "id": "T3f_viwg8x4D",
        "outputId": "53f1aa6b-920d-49b9-8be4-ea96e5c92776"
      },
      "execution_count": null,
      "outputs": [
        {
          "output_type": "display_data",
          "data": {
            "text/plain": [
              "<Figure size 1000x600 with 1 Axes>"
            ],
            "image/png": "[encoded data removed]"
          },
          "metadata": {}
        }
      ]
    },
    {
      "cell_type": "code",
      "source": [
        "hashtag_counts = df['Hastag2'].value_counts().head(10)\n",
        "\n",
        "# Membuat plot barh\n",
        "fig, ax = plt.subplots(figsize=(10,6))\n",
        "hashtag_counts.plot(kind='barh', color='#00FFFF', ax=ax)\n",
        "\n",
        "# Mengatur label dan judul\n",
        "ax.set_xlabel('Jumlah')\n",
        "ax.set_ylabel('Hashtag')\n",
        "ax.set_title('Core Feedback')\n",
        "\n",
        "# Menambahkan label pada data\n",
        "for i in range(len(hashtag_counts)):\n",
        "    ax.text(hashtag_counts.iloc[i], i, str(hashtag_counts.iloc[i]), ha='left', va='center')\n",
        "\n",
        "# Menampilkan plot\n",
        "plt.show()"
      ],
      "metadata": {
        "colab": {
          "base_uri": "https://localhost:8080/",
          "height": 367
        },
        "id": "PZnzH-RO8CNS",
        "outputId": "e1c1d92d-beab-445e-cf8a-f5cda5d8c199"
      },
      "execution_count": null,
      "outputs": [
        {
          "output_type": "display_data",
          "data": {
            "text/plain": [
              "<Figure size 1000x600 with 1 Axes>"
            ],
            "image/png": "[encoded data removed]"
          },
          "metadata": {}
        }
      ]
    },
    {
      "cell_type": "code",
      "source": [
        "df['Sentiment'].value_counts()"
      ],
      "metadata": {
        "colab": {
          "base_uri": "https://localhost:8080/"
        },
        "id": "T6Ht5f64DY1b",
        "outputId": "52b55133-591c-4919-9a1c-19879bd653fc"
      },
      "execution_count": null,
      "outputs": [
        {
          "output_type": "execute_result",
          "data": {
            "text/plain": [
              "Positif    513\n",
              "Neutral    272\n",
              "Negatif    111\n",
              "Name: Sentiment, dtype: int64"
            ]
          },
          "metadata": {},
          "execution_count": 11
        }
      ]
    },
    {
      "cell_type": "code",
      "source": [
        "# df['Sentiment'].value_counts().plot(kind='pie',subplots=True, figsize=(10,6), autopct='%1.1f%%')\n",
        "\n",
        "colors = ['#FFA07A', '#87CEFA', '#98FB98']  # Contoh palet warna\n",
        "\n",
        "# Membuat plot pie\n",
        "sentiment_counts = df['Sentiment'].value_counts()\n",
        "sentiment_counts.plot(kind='pie', subplots=True, figsize=(14,8), autopct='%1.1f%%', colors=colors,title='Sentiments from Feedback', labels=sentiment_counts.index,explode = (0.1, 0, 0))\n",
        "\n",
        "# Menampilkan plot\n",
        "plt.show()"
      ],
      "metadata": {
        "colab": {
          "base_uri": "https://localhost:8080/",
          "height": 704
        },
        "id": "mkwybaNO8S8S",
        "outputId": "9f8532f5-90bf-4c2c-ef23-08d7381ce9ae"
      },
      "execution_count": null,
      "outputs": [
        {
          "output_type": "display_data",
          "data": {
            "text/plain": [
              "<Figure size 1400x800 with 1 Axes>"
            ],
            "image/png": "[encoded data removed]"
          },
          "metadata": {}
        }
      ]
    },
    {
      "cell_type": "markdown",
      "source": [
        "### Preprocessing"
      ],
      "metadata": {
        "id": "W3BhUwH8F0He"
      }
    },
    {
      "cell_type": "code",
      "source": [
        "df.dropna(subset = ['Feedback', 'Sentiment'], inplace=True)"
      ],
      "metadata": {
        "id": "FsG9YRtLsbcl"
      },
      "execution_count": null,
      "outputs": []
    },
    {
      "cell_type": "code",
      "source": [
        "df.isnull().sum()"
      ],
      "metadata": {
        "colab": {
          "base_uri": "https://localhost:8080/"
        },
        "id": "5iHdn1Cesmn7",
        "outputId": "950fcf42-82e1-4439-d7d1-a664898d03d9"
      },
      "execution_count": null,
      "outputs": [
        {
          "output_type": "execute_result",
          "data": {
            "text/plain": [
              "No             0\n",
              "Feedback       0\n",
              "Hastag1      284\n",
              "Hastag2      472\n",
              "Sentiment      0\n",
              "dtype: int64"
            ]
          },
          "metadata": {},
          "execution_count": 14
        }
      ]
    },
    {
      "cell_type": "code",
      "source": [
        "from nltk.tokenize import sent_tokenize, word_tokenize\n",
        "from nltk.corpus import stopwords\n",
        "import string \n",
        "import re #regex library\n",
        "# import word_tokenize & FreqDist from NLTK\n",
        "from nltk.tokenize import word_tokenize \n",
        "from nltk.probability import FreqDist\n",
        "import nltk\n",
        "nltk.download('punkt')\n",
        "nltk.download('stopwords')"
      ],
      "metadata": {
        "id": "rNR9uakyDr2L",
        "colab": {
          "base_uri": "https://localhost:8080/"
        },
        "outputId": "2c046a0c-c3b0-40aa-ffb0-d3771e8480e6"
      },
      "execution_count": null,
      "outputs": [
        {
          "output_type": "stream",
          "name": "stderr",
          "text": [
            "[nltk_data] Downloading package punkt to /root/nltk_data...\n",
            "[nltk_data]   Unzipping tokenizers/punkt.zip.\n",
            "[nltk_data] Downloading package stopwords to /root/nltk_data...\n",
            "[nltk_data]   Unzipping corpora/stopwords.zip.\n"
          ]
        },
        {
          "output_type": "execute_result",
          "data": {
            "text/plain": [
              "True"
            ]
          },
          "metadata": {},
          "execution_count": 15
        }
      ]
    },
    {
      "cell_type": "code",
      "source": [
        "df['Feedback'] = df['Feedback'].str.lower()\n",
        "\n",
        "\n",
        "print('Case Folding Result : \\n')\n",
        "print(df['Feedback'].head(5))"
      ],
      "metadata": {
        "id": "d3ARWFv467bz",
        "colab": {
          "base_uri": "https://localhost:8080/"
        },
        "outputId": "6cdb83f0-d67b-41a5-bf8a-5de00d74758c"
      },
      "execution_count": null,
      "outputs": [
        {
          "output_type": "stream",
          "name": "stdout",
          "text": [
            "Case Folding Result : \n",
            "\n",
            "0                            sudah bagus fast response\n",
            "1    menurut saya, it sudah sangat baik dalam membe...\n",
            "2                                    sudah sangat baik\n",
            "4                  kemudahan akses masuk k wifi kantor\n",
            "5                                                    -\n",
            "Name: Feedback, dtype: object\n"
          ]
        }
      ]
    },
    {
      "cell_type": "code",
      "source": [
        "def remove_feedback_special(text):\n",
        "    # remove tab, new line, ans back slice\n",
        "    text = text.replace('\\\\t',\" \").replace('\\\\n',\" \").replace('\\\\u',\" \").replace('\\\\',\"\")\n",
        "    # remove non ASCII (emoticon, chinese word, .etc)\n",
        "    text = text.encode('ascii', 'replace').decode('ascii')\n",
        "    # remove mention, link, hashtag\n",
        "    text = ' '.join(re.sub(\"([@#][A-Za-z0-9]+)|(\\w+:\\/\\/\\S+)\",\" \", text).split())\n",
        "    # remove incomplete URL\n",
        "    return text.replace(\"http://\", \" \").replace(\"https://\", \" \")\n",
        "                \n",
        "df['Feedback'] = df['Feedback'].apply(remove_feedback_special)\n",
        "\n",
        "#remove number\n",
        "def remove_number(text):\n",
        "    return  re.sub(r\"\\d+\", \"\", text)\n",
        "\n",
        "df['Feedback'] = df['Feedback'].apply(remove_number)\n",
        "\n",
        "#remove punctuation\n",
        "def remove_punctuation(text):\n",
        "    return text.translate(str.maketrans(\"\",\"\",string.punctuation))\n",
        "\n",
        "df['Feedback'] = df['Feedback'].apply(remove_punctuation)\n",
        "\n",
        "#remove whitespace leading & trailing\n",
        "def remove_whitespace_LT(text):\n",
        "    return text.strip()\n",
        "\n",
        "df['Feedback'] = df['Feedback'].apply(remove_whitespace_LT)\n",
        "\n",
        "#remove multiple whitespace into single whitespace\n",
        "def remove_whitespace_multiple(text):\n",
        "    return re.sub('\\s+',' ',text)\n",
        "\n",
        "df['Feedback'] = df['Feedback'].apply(remove_whitespace_multiple)\n",
        "\n",
        "# remove single char\n",
        "def remove_singl_char(text):\n",
        "    return re.sub(r\"\\b[a-zA-Z]\\b\", \"\", text)\n",
        "\n",
        "df['Feedback'] = df['Feedback'].apply(remove_singl_char)\n",
        "\n",
        "# NLTK word rokenize \n",
        "def word_tokenize_wrapper(text):\n",
        "    return word_tokenize(text)\n",
        "\n",
        "df['Feedback_cleansing'] = df['Feedback'].apply(word_tokenize_wrapper)\n",
        "\n",
        "print('Tokenizing Result : \\n') \n",
        "print(df['Feedback_cleansing'].head())\n",
        "print('\\n\\n\\n')"
      ],
      "metadata": {
        "id": "4XrAEBN46zlz",
        "colab": {
          "base_uri": "https://localhost:8080/"
        },
        "outputId": "1d17236a-cec7-469b-a1af-f8036cc7e5d6"
      },
      "execution_count": null,
      "outputs": [
        {
          "output_type": "stream",
          "name": "stdout",
          "text": [
            "Tokenizing Result : \n",
            "\n",
            "0                       [sudah, bagus, fast, response]\n",
            "1    [menurut, saya, it, sudah, sangat, baik, dalam...\n",
            "2                                [sudah, sangat, baik]\n",
            "4              [kemudahan, akses, masuk, wifi, kantor]\n",
            "5                                                   []\n",
            "Name: Feedback_cleansing, dtype: object\n",
            "\n",
            "\n",
            "\n",
            "\n"
          ]
        }
      ]
    },
    {
      "cell_type": "code",
      "source": [
        "from nltk.corpus import stopwords\n",
        "\n",
        "# ----------------------- get stopword from NLTK stopword -------------------------------\n",
        "# get stopword indonesia\n",
        "list_stopwords = stopwords.words('indonesian')\n",
        "list_stopwords.remove('baik')\n",
        "# sw_list = {\"baik\"}\n",
        "# list_stopwords = list_stopwords.difference(sw_list)\n",
        "\n",
        "# all_stopwords_gensim = STOPWORDS\n",
        "# sw_list = {\"not\"}\n",
        "# all_stopwords_gensim = STOPWORDS.difference(sw_list)\n",
        "\n",
        "\n",
        "# ---------------------------- MANUALY ADD STOPWORD  ------------------------------------\n",
        "# append additional stopword\n",
        "list_stopwords.extend([\"yg\", \"dg\", \"rt\", \"dgn\", \"ny\", \"d\", 'klo', \n",
        "                       'kalo', 'amp', 'biar', 'bikin', 'bilang', \n",
        "                       'gak', 'ga', 'krn', 'nya', 'nih', 'sih', \n",
        "                       'si', 'tau', 'tdk', 'tuh', 'utk', 'ya', \n",
        "                       'jd', 'jgn', 'sdh', 'aja', 'n', 't', \n",
        "                       'nyg', 'hehe', 'pen', 'u', 'nan', 'loh', 'rt',\n",
        "                       '&amp', 'yah','terkait', 'mohon','terkadang','sata'])\n",
        "\n",
        "# ----------------------- add stopword from txt file ------------------------------------\n",
        "# read txt stopword using pandas\n",
        "# txt_stopword = pd.read_csv(\"stopwords.txt\", names= [\"stopwords\"], header = None)\n",
        "\n",
        "# convert stopword string to list & append additional stopword\n",
        "# list_stopwords.extend(txt_stopword[\"stopwords\"][0].split(' '))\n",
        "\n",
        "# ---------------------------------------------------------------------------------------\n",
        "\n",
        "# convert list to dictionary\n",
        "list_stopwords = set(list_stopwords)\n",
        "\n",
        "\n",
        "#remove stopword pada list token\n",
        "def stopwords_removal(words):\n",
        "    return [word for word in words if word not in list_stopwords]\n",
        "\n",
        "df['Feedback_stopwordrem'] = df['Feedback_cleansing'].apply(stopwords_removal) \n",
        "\n",
        "\n",
        "print(df['Feedback_stopwordrem'].head())"
      ],
      "metadata": {
        "colab": {
          "base_uri": "https://localhost:8080/"
        },
        "id": "ILDP4dq9Yfwu",
        "outputId": "148655e8-4478-46a9-f17c-5cde499511ff"
      },
      "execution_count": null,
      "outputs": [
        {
          "output_type": "stream",
          "name": "stdout",
          "text": [
            "0                    [bagus, fast, response]\n",
            "1          [it, baik, kontribusi, bidangnya]\n",
            "2                                     [baik]\n",
            "4    [kemudahan, akses, masuk, wifi, kantor]\n",
            "5                                         []\n",
            "Name: Feedback_stopwordrem, dtype: object\n"
          ]
        }
      ]
    },
    {
      "cell_type": "code",
      "source": [
        "df.head()"
      ],
      "metadata": {
        "colab": {
          "base_uri": "https://localhost:8080/",
          "height": 478
        },
        "id": "kOwKvwjQYwU5",
        "outputId": "f398cab5-0652-48a0-8745-fe298f00b20f"
      },
      "execution_count": null,
      "outputs": [
        {
          "output_type": "execute_result",
          "data": {
            "text/plain": [
              "   No                                           Feedback Hastag1  \\\n",
              "0   1                          sudah bagus fast response     NaN   \n",
              "1   2  menurut saya it sudah sangat baik dalam member...      IT   \n",
              "2   3                                  sudah sangat baik    Baik   \n",
              "4   5                 kemudahan akses masuk  wifi kantor    WIFI   \n",
              "5   6                                                        NaN   \n",
              "\n",
              "                Hastag2 Sentiment  \\\n",
              "0                   NaN   Neutral   \n",
              "1         IT sudah baik   Positif   \n",
              "2  Servce IT sudah baik   Positif   \n",
              "4     akses tidak mudah   Positif   \n",
              "5                   NaN   Neutral   \n",
              "\n",
              "                                  Feedback_cleansing  \\\n",
              "0                     [sudah, bagus, fast, response]   \n",
              "1  [menurut, saya, it, sudah, sangat, baik, dalam...   \n",
              "2                              [sudah, sangat, baik]   \n",
              "4            [kemudahan, akses, masuk, wifi, kantor]   \n",
              "5                                                 []   \n",
              "\n",
              "                      Feedback_stopwordrem  \n",
              "0                  [bagus, fast, response]  \n",
              "1        [it, baik, kontribusi, bidangnya]  \n",
              "2                                   [baik]  \n",
              "4  [kemudahan, akses, masuk, wifi, kantor]  \n",
              "5                                       []  "
            ],
            "text/html": [
              "\n",
              "  <div id=\"df-81e72628-e860-4dd5-b14a-47cd7da35f4c\">\n",
              "    <div class=\"colab-df-container\">\n",
              "      <div>\n",
              "<style scoped>\n",
              "    .dataframe tbody tr th:only-of-type {\n",
              "        vertical-align: middle;\n",
              "    }\n",
              "\n",
              "    .dataframe tbody tr th {\n",
              "        vertical-align: top;\n",
              "    }\n",
              "\n",
              "    .dataframe thead th {\n",
              "        text-align: right;\n",
              "    }\n",
              "</style>\n",
              "<table border=\"1\" class=\"dataframe\">\n",
              "  <thead>\n",
              "    <tr style=\"text-align: right;\">\n",
              "      <th></th>\n",
              "      <th>No</th>\n",
              "      <th>Feedback</th>\n",
              "      <th>Hastag1</th>\n",
              "      <th>Hastag2</th>\n",
              "      <th>Sentiment</th>\n",
              "      <th>Feedback_cleansing</th>\n",
              "      <th>Feedback_stopwordrem</th>\n",
              "    </tr>\n",
              "  </thead>\n",
              "  <tbody>\n",
              "    <tr>\n",
              "      <th>0</th>\n",
              "      <td>1</td>\n",
              "      <td>sudah bagus fast response</td>\n",
              "      <td>NaN</td>\n",
              "      <td>NaN</td>\n",
              "      <td>Neutral</td>\n",
              "      <td>[sudah, bagus, fast, response]</td>\n",
              "      <td>[bagus, fast, response]</td>\n",
              "    </tr>\n",
              "    <tr>\n",
              "      <th>1</th>\n",
              "      <td>2</td>\n",
              "      <td>menurut saya it sudah sangat baik dalam member...</td>\n",
              "      <td>IT</td>\n",
              "      <td>IT sudah baik</td>\n",
              "      <td>Positif</td>\n",
              "      <td>[menurut, saya, it, sudah, sangat, baik, dalam...</td>\n",
              "      <td>[it, baik, kontribusi, bidangnya]</td>\n",
              "    </tr>\n",
              "    <tr>\n",
              "      <th>2</th>\n",
              "      <td>3</td>\n",
              "      <td>sudah sangat baik</td>\n",
              "      <td>Baik</td>\n",
              "      <td>Servce IT sudah baik</td>\n",
              "      <td>Positif</td>\n",
              "      <td>[sudah, sangat, baik]</td>\n",
              "      <td>[baik]</td>\n",
              "    </tr>\n",
              "    <tr>\n",
              "      <th>4</th>\n",
              "      <td>5</td>\n",
              "      <td>kemudahan akses masuk  wifi kantor</td>\n",
              "      <td>WIFI</td>\n",
              "      <td>akses tidak mudah</td>\n",
              "      <td>Positif</td>\n",
              "      <td>[kemudahan, akses, masuk, wifi, kantor]</td>\n",
              "      <td>[kemudahan, akses, masuk, wifi, kantor]</td>\n",
              "    </tr>\n",
              "    <tr>\n",
              "      <th>5</th>\n",
              "      <td>6</td>\n",
              "      <td></td>\n",
              "      <td>NaN</td>\n",
              "      <td>NaN</td>\n",
              "      <td>Neutral</td>\n",
              "      <td>[]</td>\n",
              "      <td>[]</td>\n",
              "    </tr>\n",
              "  </tbody>\n",
              "</table>\n",
              "</div>\n",
              "      <button class=\"colab-df-convert\" onclick=\"convertToInteractive('df-81e72628-e860-4dd5-b14a-47cd7da35f4c')\"\n",
              "              title=\"Convert this dataframe to an interactive table.\"\n",
              "              style=\"display:none;\">\n",
              "        \n",
              "  <svg xmlns=\"http://www.w3.org/2000/svg\" height=\"24px\"viewBox=\"0 0 24 24\"\n",
              "       width=\"24px\">\n",
              "    <path d=\"M0 0h24v24H0V0z\" fill=\"none\"/>\n",
              "    <path d=\"M18.56 5.44l.94 2.06.94-2.06 2.06-.94-2.06-.94-.94-2.06-.94 2.06-2.06.94zm-11 1L8.5 8.5l.94-2.06 2.06-.94-2.06-.94L8.5 2.5l-.94 2.06-2.06.94zm10 10l.94 2.06.94-2.06 2.06-.94-2.06-.94-.94-2.06-.94 2.06-2.06.94z\"/><path d=\"M17.41 7.96l-1.37-1.37c-.4-.4-.92-.59-1.43-.59-.52 0-1.04.2-1.43.59L10.3 9.45l-7.72 7.72c-.78.78-.78 2.05 0 2.83L4 21.41c.39.39.9.59 1.41.59.51 0 1.02-.2 1.41-.59l7.78-7.78 2.81-2.81c.8-.78.8-2.07 0-2.86zM5.41 20L4 18.59l7.72-7.72 1.47 1.35L5.41 20z\"/>\n",
              "  </svg>\n",
              "      </button>\n",
              "      \n",
              "  <style>\n",
              "    .colab-df-container {\n",
              "      display:flex;\n",
              "      flex-wrap:wrap;\n",
              "      gap: 12px;\n",
              "    }\n",
              "\n",
              "    .colab-df-convert {\n",
              "      background-color: #E8F0FE;\n",
              "      border: none;\n",
              "      border-radius: 50%;\n",
              "      cursor: pointer;\n",
              "      display: none;\n",
              "      fill: #1967D2;\n",
              "      height: 32px;\n",
              "      padding: 0 0 0 0;\n",
              "      width: 32px;\n",
              "    }\n",
              "\n",
              "    .colab-df-convert:hover {\n",
              "      background-color: #E2EBFA;\n",
              "      box-shadow: 0px 1px 2px rgba(60, 64, 67, 0.3), 0px 1px 3px 1px rgba(60, 64, 67, 0.15);\n",
              "      fill: #174EA6;\n",
              "    }\n",
              "\n",
              "    [theme=dark] .colab-df-convert {\n",
              "      background-color: #3B4455;\n",
              "      fill: #D2E3FC;\n",
              "    }\n",
              "\n",
              "    [theme=dark] .colab-df-convert:hover {\n",
              "      background-color: #434B5C;\n",
              "      box-shadow: 0px 1px 3px 1px rgba(0, 0, 0, 0.15);\n",
              "      filter: drop-shadow(0px 1px 2px rgba(0, 0, 0, 0.3));\n",
              "      fill: #FFFFFF;\n",
              "    }\n",
              "  </style>\n",
              "\n",
              "      <script>\n",
              "        const buttonEl =\n",
              "          document.querySelector('#df-81e72628-e860-4dd5-b14a-47cd7da35f4c button.colab-df-convert');\n",
              "        buttonEl.style.display =\n",
              "          google.colab.kernel.accessAllowed ? 'block' : 'none';\n",
              "\n",
              "        async function convertToInteractive(key) {\n",
              "          const element = document.querySelector('#df-81e72628-e860-4dd5-b14a-47cd7da35f4c');\n",
              "          const dataTable =\n",
              "            await google.colab.kernel.invokeFunction('convertToInteractive',\n",
              "                                                     [key], {});\n",
              "          if (!dataTable) return;\n",
              "\n",
              "          const docLinkHtml = 'Like what you see? Visit the ' +\n",
              "            '<a target=\"_blank\" href=https://colab.research.google.com/notebooks/data_table.ipynb>data table notebook</a>'\n",
              "            + ' to learn more about interactive tables.';\n",
              "          element.innerHTML = '';\n",
              "          dataTable['output_type'] = 'display_data';\n",
              "          await google.colab.output.renderOutput(dataTable, element);\n",
              "          const docLink = document.createElement('div');\n",
              "          docLink.innerHTML = docLinkHtml;\n",
              "          element.appendChild(docLink);\n",
              "        }\n",
              "      </script>\n",
              "    </div>\n",
              "  </div>\n",
              "  "
            ]
          },
          "metadata": {},
          "execution_count": 19
        }
      ]
    },
    {
      "cell_type": "code",
      "source": [
        "# back to 1 dimention\n",
        "def joinStem(text):\n",
        "  text = \" \".join([char for char in text if char not in string.punctuation])\n",
        "  return text\n",
        "\n",
        "df['Feedback2'] = df['Feedback_stopwordrem'].apply(lambda x: joinStem(x))"
      ],
      "metadata": {
        "id": "V9IrfUzYcJaG"
      },
      "execution_count": null,
      "outputs": []
    },
    {
      "cell_type": "code",
      "source": [
        "df"
      ],
      "metadata": {
        "colab": {
          "base_uri": "https://localhost:8080/",
          "height": 887
        },
        "id": "YK-NDx_JdBdp",
        "outputId": "fd628b39-233a-4615-d311-780e17485ae9"
      },
      "execution_count": null,
      "outputs": [
        {
          "output_type": "execute_result",
          "data": {
            "text/plain": [
              "      No                                           Feedback Hastag1  \\\n",
              "0      1                          sudah bagus fast response     NaN   \n",
              "1      2  menurut saya it sudah sangat baik dalam member...      IT   \n",
              "2      3                                  sudah sangat baik    Baik   \n",
              "4      5                 kemudahan akses masuk  wifi kantor    WIFI   \n",
              "5      6                                                        NaN   \n",
              "..   ...                                                ...     ...   \n",
              "978  987  keren sejauh ini selalu fast respon dan member...     NaN   \n",
              "979  988                                              nihil     NaN   \n",
              "980  989  share informasi terkait perkembangan tenologi ...      IT   \n",
              "981  990  sla terkait dengan service dan data processing...      IT   \n",
              "982  991      follow up perbaikan permasalahan kurang cepat   Cepat   \n",
              "\n",
              "                      Hastag2 Sentiment  \\\n",
              "0                         NaN   Neutral   \n",
              "1               IT sudah baik   Positif   \n",
              "2        Servce IT sudah baik   Positif   \n",
              "4           akses tidak mudah   Positif   \n",
              "5                         NaN   Neutral   \n",
              "..                        ...       ...   \n",
              "978                       NaN   Positif   \n",
              "979                       NaN   Neutral   \n",
              "980  Sosialisasi teknologi IT   Positif   \n",
              "981              Data quality   Positif   \n",
              "982      IT harus lebih cepat   Negatif   \n",
              "\n",
              "                                    Feedback_cleansing  \\\n",
              "0                       [sudah, bagus, fast, response]   \n",
              "1    [menurut, saya, it, sudah, sangat, baik, dalam...   \n",
              "2                                [sudah, sangat, baik]   \n",
              "4              [kemudahan, akses, masuk, wifi, kantor]   \n",
              "5                                                   []   \n",
              "..                                                 ...   \n",
              "978  [keren, sejauh, ini, selalu, fast, respon, dan...   \n",
              "979                                            [nihil]   \n",
              "980  [share, informasi, terkait, perkembangan, teno...   \n",
              "981  [sla, terkait, dengan, service, dan, data, pro...   \n",
              "982  [follow, up, perbaikan, permasalahan, kurang, ...   \n",
              "\n",
              "                                  Feedback_stopwordrem  \\\n",
              "0                              [bagus, fast, response]   \n",
              "1                    [it, baik, kontribusi, bidangnya]   \n",
              "2                                               [baik]   \n",
              "4              [kemudahan, akses, masuk, wifi, kantor]   \n",
              "5                                                   []   \n",
              "..                                                 ...   \n",
              "978                 [keren, fast, respon, solusi, yng]   \n",
              "979                                            [nihil]   \n",
              "980  [share, informasi, perkembangan, tenologi, dun...   \n",
              "981  [sla, service, data, processing, guarantee, se...   \n",
              "982       [follow, up, perbaikan, permasalahan, cepat]   \n",
              "\n",
              "                                             Feedback2  \n",
              "0                                  bagus fast response  \n",
              "1                         it baik kontribusi bidangnya  \n",
              "2                                                 baik  \n",
              "4                    kemudahan akses masuk wifi kantor  \n",
              "5                                                       \n",
              "..                                                 ...  \n",
              "978                       keren fast respon solusi yng  \n",
              "979                                              nihil  \n",
              "980  share informasi perkembangan tenologi dunia it...  \n",
              "981  sla service data processing guarantee service ...  \n",
              "982             follow up perbaikan permasalahan cepat  \n",
              "\n",
              "[896 rows x 8 columns]"
            ],
            "text/html": [
              "\n",
              "  <div id=\"df-a4a1c034-8319-4bfb-81f9-e1f687045cc8\">\n",
              "    <div class=\"colab-df-container\">\n",
              "      <div>\n",
              "<style scoped>\n",
              "    .dataframe tbody tr th:only-of-type {\n",
              "        vertical-align: middle;\n",
              "    }\n",
              "\n",
              "    .dataframe tbody tr th {\n",
              "        vertical-align: top;\n",
              "    }\n",
              "\n",
              "    .dataframe thead th {\n",
              "        text-align: right;\n",
              "    }\n",
              "</style>\n",
              "<table border=\"1\" class=\"dataframe\">\n",
              "  <thead>\n",
              "    <tr style=\"text-align: right;\">\n",
              "      <th></th>\n",
              "      <th>No</th>\n",
              "      <th>Feedback</th>\n",
              "      <th>Hastag1</th>\n",
              "      <th>Hastag2</th>\n",
              "      <th>Sentiment</th>\n",
              "      <th>Feedback_cleansing</th>\n",
              "      <th>Feedback_stopwordrem</th>\n",
              "      <th>Feedback2</th>\n",
              "    </tr>\n",
              "  </thead>\n",
              "  <tbody>\n",
              "    <tr>\n",
              "      <th>0</th>\n",
              "      <td>1</td>\n",
              "      <td>sudah bagus fast response</td>\n",
              "      <td>NaN</td>\n",
              "      <td>NaN</td>\n",
              "      <td>Neutral</td>\n",
              "      <td>[sudah, bagus, fast, response]</td>\n",
              "      <td>[bagus, fast, response]</td>\n",
              "      <td>bagus fast response</td>\n",
              "    </tr>\n",
              "    <tr>\n",
              "      <th>1</th>\n",
              "      <td>2</td>\n",
              "      <td>menurut saya it sudah sangat baik dalam member...</td>\n",
              "      <td>IT</td>\n",
              "      <td>IT sudah baik</td>\n",
              "      <td>Positif</td>\n",
              "      <td>[menurut, saya, it, sudah, sangat, baik, dalam...</td>\n",
              "      <td>[it, baik, kontribusi, bidangnya]</td>\n",
              "      <td>it baik kontribusi bidangnya</td>\n",
              "    </tr>\n",
              "    <tr>\n",
              "      <th>2</th>\n",
              "      <td>3</td>\n",
              "      <td>sudah sangat baik</td>\n",
              "      <td>Baik</td>\n",
              "      <td>Servce IT sudah baik</td>\n",
              "      <td>Positif</td>\n",
              "      <td>[sudah, sangat, baik]</td>\n",
              "      <td>[baik]</td>\n",
              "      <td>baik</td>\n",
              "    </tr>\n",
              "    <tr>\n",
              "      <th>4</th>\n",
              "      <td>5</td>\n",
              "      <td>kemudahan akses masuk  wifi kantor</td>\n",
              "      <td>WIFI</td>\n",
              "      <td>akses tidak mudah</td>\n",
              "      <td>Positif</td>\n",
              "      <td>[kemudahan, akses, masuk, wifi, kantor]</td>\n",
              "      <td>[kemudahan, akses, masuk, wifi, kantor]</td>\n",
              "      <td>kemudahan akses masuk wifi kantor</td>\n",
              "    </tr>\n",
              "    <tr>\n",
              "      <th>5</th>\n",
              "      <td>6</td>\n",
              "      <td></td>\n",
              "      <td>NaN</td>\n",
              "      <td>NaN</td>\n",
              "      <td>Neutral</td>\n",
              "      <td>[]</td>\n",
              "      <td>[]</td>\n",
              "      <td></td>\n",
              "    </tr>\n",
              "    <tr>\n",
              "      <th>...</th>\n",
              "      <td>...</td>\n",
              "      <td>...</td>\n",
              "      <td>...</td>\n",
              "      <td>...</td>\n",
              "      <td>...</td>\n",
              "      <td>...</td>\n",
              "      <td>...</td>\n",
              "      <td>...</td>\n",
              "    </tr>\n",
              "    <tr>\n",
              "      <th>978</th>\n",
              "      <td>987</td>\n",
              "      <td>keren sejauh ini selalu fast respon dan member...</td>\n",
              "      <td>NaN</td>\n",
              "      <td>NaN</td>\n",
              "      <td>Positif</td>\n",
              "      <td>[keren, sejauh, ini, selalu, fast, respon, dan...</td>\n",
              "      <td>[keren, fast, respon, solusi, yng]</td>\n",
              "      <td>keren fast respon solusi yng</td>\n",
              "    </tr>\n",
              "    <tr>\n",
              "      <th>979</th>\n",
              "      <td>988</td>\n",
              "      <td>nihil</td>\n",
              "      <td>NaN</td>\n",
              "      <td>NaN</td>\n",
              "      <td>Neutral</td>\n",
              "      <td>[nihil]</td>\n",
              "      <td>[nihil]</td>\n",
              "      <td>nihil</td>\n",
              "    </tr>\n",
              "    <tr>\n",
              "      <th>980</th>\n",
              "      <td>989</td>\n",
              "      <td>share informasi terkait perkembangan tenologi ...</td>\n",
              "      <td>IT</td>\n",
              "      <td>Sosialisasi teknologi IT</td>\n",
              "      <td>Positif</td>\n",
              "      <td>[share, informasi, terkait, perkembangan, teno...</td>\n",
              "      <td>[share, informasi, perkembangan, tenologi, dun...</td>\n",
              "      <td>share informasi perkembangan tenologi dunia it...</td>\n",
              "    </tr>\n",
              "    <tr>\n",
              "      <th>981</th>\n",
              "      <td>990</td>\n",
              "      <td>sla terkait dengan service dan data processing...</td>\n",
              "      <td>IT</td>\n",
              "      <td>Data quality</td>\n",
              "      <td>Positif</td>\n",
              "      <td>[sla, terkait, dengan, service, dan, data, pro...</td>\n",
              "      <td>[sla, service, data, processing, guarantee, se...</td>\n",
              "      <td>sla service data processing guarantee service ...</td>\n",
              "    </tr>\n",
              "    <tr>\n",
              "      <th>982</th>\n",
              "      <td>991</td>\n",
              "      <td>follow up perbaikan permasalahan kurang cepat</td>\n",
              "      <td>Cepat</td>\n",
              "      <td>IT harus lebih cepat</td>\n",
              "      <td>Negatif</td>\n",
              "      <td>[follow, up, perbaikan, permasalahan, kurang, ...</td>\n",
              "      <td>[follow, up, perbaikan, permasalahan, cepat]</td>\n",
              "      <td>follow up perbaikan permasalahan cepat</td>\n",
              "    </tr>\n",
              "  </tbody>\n",
              "</table>\n",
              "<p>896 rows × 8 columns</p>\n",
              "</div>\n",
              "      <button class=\"colab-df-convert\" onclick=\"convertToInteractive('df-a4a1c034-8319-4bfb-81f9-e1f687045cc8')\"\n",
              "              title=\"Convert this dataframe to an interactive table.\"\n",
              "              style=\"display:none;\">\n",
              "        \n",
              "  <svg xmlns=\"http://www.w3.org/2000/svg\" height=\"24px\"viewBox=\"0 0 24 24\"\n",
              "       width=\"24px\">\n",
              "    <path d=\"M0 0h24v24H0V0z\" fill=\"none\"/>\n",
              "    <path d=\"M18.56 5.44l.94 2.06.94-2.06 2.06-.94-2.06-.94-.94-2.06-.94 2.06-2.06.94zm-11 1L8.5 8.5l.94-2.06 2.06-.94-2.06-.94L8.5 2.5l-.94 2.06-2.06.94zm10 10l.94 2.06.94-2.06 2.06-.94-2.06-.94-.94-2.06-.94 2.06-2.06.94z\"/><path d=\"M17.41 7.96l-1.37-1.37c-.4-.4-.92-.59-1.43-.59-.52 0-1.04.2-1.43.59L10.3 9.45l-7.72 7.72c-.78.78-.78 2.05 0 2.83L4 21.41c.39.39.9.59 1.41.59.51 0 1.02-.2 1.41-.59l7.78-7.78 2.81-2.81c.8-.78.8-2.07 0-2.86zM5.41 20L4 18.59l7.72-7.72 1.47 1.35L5.41 20z\"/>\n",
              "  </svg>\n",
              "      </button>\n",
              "      \n",
              "  <style>\n",
              "    .colab-df-container {\n",
              "      display:flex;\n",
              "      flex-wrap:wrap;\n",
              "      gap: 12px;\n",
              "    }\n",
              "\n",
              "    .colab-df-convert {\n",
              "      background-color: #E8F0FE;\n",
              "      border: none;\n",
              "      border-radius: 50%;\n",
              "      cursor: pointer;\n",
              "      display: none;\n",
              "      fill: #1967D2;\n",
              "      height: 32px;\n",
              "      padding: 0 0 0 0;\n",
              "      width: 32px;\n",
              "    }\n",
              "\n",
              "    .colab-df-convert:hover {\n",
              "      background-color: #E2EBFA;\n",
              "      box-shadow: 0px 1px 2px rgba(60, 64, 67, 0.3), 0px 1px 3px 1px rgba(60, 64, 67, 0.15);\n",
              "      fill: #174EA6;\n",
              "    }\n",
              "\n",
              "    [theme=dark] .colab-df-convert {\n",
              "      background-color: #3B4455;\n",
              "      fill: #D2E3FC;\n",
              "    }\n",
              "\n",
              "    [theme=dark] .colab-df-convert:hover {\n",
              "      background-color: #434B5C;\n",
              "      box-shadow: 0px 1px 3px 1px rgba(0, 0, 0, 0.15);\n",
              "      filter: drop-shadow(0px 1px 2px rgba(0, 0, 0, 0.3));\n",
              "      fill: #FFFFFF;\n",
              "    }\n",
              "  </style>\n",
              "\n",
              "      <script>\n",
              "        const buttonEl =\n",
              "          document.querySelector('#df-a4a1c034-8319-4bfb-81f9-e1f687045cc8 button.colab-df-convert');\n",
              "        buttonEl.style.display =\n",
              "          google.colab.kernel.accessAllowed ? 'block' : 'none';\n",
              "\n",
              "        async function convertToInteractive(key) {\n",
              "          const element = document.querySelector('#df-a4a1c034-8319-4bfb-81f9-e1f687045cc8');\n",
              "          const dataTable =\n",
              "            await google.colab.kernel.invokeFunction('convertToInteractive',\n",
              "                                                     [key], {});\n",
              "          if (!dataTable) return;\n",
              "\n",
              "          const docLinkHtml = 'Like what you see? Visit the ' +\n",
              "            '<a target=\"_blank\" href=https://colab.research.google.com/notebooks/data_table.ipynb>data table notebook</a>'\n",
              "            + ' to learn more about interactive tables.';\n",
              "          element.innerHTML = '';\n",
              "          dataTable['output_type'] = 'display_data';\n",
              "          await google.colab.output.renderOutput(dataTable, element);\n",
              "          const docLink = document.createElement('div');\n",
              "          docLink.innerHTML = docLinkHtml;\n",
              "          element.appendChild(docLink);\n",
              "        }\n",
              "      </script>\n",
              "    </div>\n",
              "  </div>\n",
              "  "
            ]
          },
          "metadata": {},
          "execution_count": 21
        }
      ]
    },
    {
      "cell_type": "code",
      "source": [
        "df.replace(r'^\\s*$', np.nan, regex=True, inplace=True) # Mengganti nilai kosong dengan NaN\n",
        "# df.dropna(inplace=True) # Menghapus baris yang mengandung NaN\n",
        "# df = df.applymap(lambda x: x.strip() if isinstance(x, str) else x) # Menghapus spasi di setiap elemen\n"
      ],
      "metadata": {
        "id": "rr2CMXijuN_u"
      },
      "execution_count": null,
      "outputs": []
    },
    {
      "cell_type": "code",
      "source": [
        "df.isna().sum()"
      ],
      "metadata": {
        "colab": {
          "base_uri": "https://localhost:8080/"
        },
        "id": "gfqjEf8ztVZt",
        "outputId": "18499f9e-4a81-4ff6-ec85-ff4fbfa1959d"
      },
      "execution_count": null,
      "outputs": [
        {
          "output_type": "execute_result",
          "data": {
            "text/plain": [
              "No                        0\n",
              "Feedback                 23\n",
              "Hastag1                 284\n",
              "Hastag2                 472\n",
              "Sentiment                 0\n",
              "Feedback_cleansing        0\n",
              "Feedback_stopwordrem      0\n",
              "Feedback2                41\n",
              "dtype: int64"
            ]
          },
          "metadata": {},
          "execution_count": 23
        }
      ]
    },
    {
      "cell_type": "code",
      "source": [
        "df.dropna(subset = ['Feedback2', 'Sentiment'], inplace=True)"
      ],
      "metadata": {
        "id": "WDz0eMgwtX7M"
      },
      "execution_count": null,
      "outputs": []
    },
    {
      "cell_type": "code",
      "source": [
        "df.isna().sum()"
      ],
      "metadata": {
        "colab": {
          "base_uri": "https://localhost:8080/"
        },
        "id": "50KwUwOouubG",
        "outputId": "f24d2ee8-682f-4ecc-d039-2c113c20cb42"
      },
      "execution_count": null,
      "outputs": [
        {
          "output_type": "execute_result",
          "data": {
            "text/plain": [
              "No                        0\n",
              "Feedback                  0\n",
              "Hastag1                 243\n",
              "Hastag2                 431\n",
              "Sentiment                 0\n",
              "Feedback_cleansing        0\n",
              "Feedback_stopwordrem      0\n",
              "Feedback2                 0\n",
              "dtype: int64"
            ]
          },
          "metadata": {},
          "execution_count": 25
        }
      ]
    },
    {
      "cell_type": "code",
      "source": [
        "df.shape"
      ],
      "metadata": {
        "colab": {
          "base_uri": "https://localhost:8080/"
        },
        "id": "3hAqm0-1uz36",
        "outputId": "7a1fc850-75b8-4575-ddb4-06c958246f95"
      },
      "execution_count": null,
      "outputs": [
        {
          "output_type": "execute_result",
          "data": {
            "text/plain": [
              "(855, 8)"
            ]
          },
          "metadata": {},
          "execution_count": 26
        }
      ]
    },
    {
      "cell_type": "code",
      "source": [
        "!pip install Sastrawi"
      ],
      "metadata": {
        "colab": {
          "base_uri": "https://localhost:8080/"
        },
        "id": "9WNt5zDtdsI6",
        "outputId": "a5e0bf92-58f1-4873-9722-89771c295099"
      },
      "execution_count": null,
      "outputs": [
        {
          "output_type": "stream",
          "name": "stdout",
          "text": [
            "Looking in indexes: https://pypi.org/simple, https://us-python.pkg.dev/colab-wheels/public/simple/\n",
            "Collecting Sastrawi\n",
            "  Downloading Sastrawi-1.0.1-py2.py3-none-any.whl (209 kB)\n",
            "\u001b[2K     \u001b[90m━━━━━━━━━━━━━━━━━━━━━━━━━━━━━━━━━━━━━━\u001b[0m \u001b[32m209.7/209.7 kB\u001b[0m \u001b[31m10.2 MB/s\u001b[0m eta \u001b[36m0:00:00\u001b[0m\n",
            "\u001b[?25hInstalling collected packages: Sastrawi\n",
            "Successfully installed Sastrawi-1.0.1\n"
          ]
        }
      ]
    },
    {
      "cell_type": "code",
      "source": [
        "from Sastrawi.Stemmer.StemmerFactory import StemmerFactory\n",
        "from Sastrawi.StopWordRemover.StopWordRemoverFactory import StopWordRemoverFactory\n",
        " \n",
        "# factory = StopWordRemoverFactory()\n",
        "factory = StemmerFactory()\n",
        "stemmer = factory.create_stemmer()\n",
        "\n",
        "# contoh\n",
        "kalimat = 'kucing itu memakan tahu sambil berlari dikejar bersama kucing lain'\n",
        "katadasar = stemmer.stem(kalimat)\n",
        " \n",
        "print(katadasar)"
      ],
      "metadata": {
        "colab": {
          "base_uri": "https://localhost:8080/"
        },
        "id": "8WaSrU4kdCMx",
        "outputId": "6303d383-eedb-4e52-8890-00a6edef01f8"
      },
      "execution_count": null,
      "outputs": [
        {
          "output_type": "stream",
          "name": "stdout",
          "text": [
            "kucing itu makan tahu sambil lari kejar sama kucing lain\n"
          ]
        }
      ]
    },
    {
      "cell_type": "code",
      "source": [
        "# lakukan pada data kita\n",
        "\n",
        "review = []\n",
        "for index, row in df.iterrows():\n",
        "    review.append(stemmer.stem(row[\"Feedback2\"]))\n",
        "    \n",
        "df[\"FinalFeed\"] = review\n",
        "df.head()"
      ],
      "metadata": {
        "colab": {
          "base_uri": "https://localhost:8080/",
          "height": 513
        },
        "id": "gyNH45Yqd4I9",
        "outputId": "8f31298c-c20f-4321-e48f-a9dfb64656cf"
      },
      "execution_count": null,
      "outputs": [
        {
          "output_type": "execute_result",
          "data": {
            "text/plain": [
              "   No                                           Feedback Hastag1  \\\n",
              "0   1                          sudah bagus fast response     NaN   \n",
              "1   2  menurut saya it sudah sangat baik dalam member...      IT   \n",
              "2   3                                  sudah sangat baik    Baik   \n",
              "4   5                 kemudahan akses masuk  wifi kantor    WIFI   \n",
              "6   7                                         sudah baik    Baik   \n",
              "\n",
              "                Hastag2 Sentiment  \\\n",
              "0                   NaN   Neutral   \n",
              "1         IT sudah baik   Positif   \n",
              "2  Servce IT sudah baik   Positif   \n",
              "4     akses tidak mudah   Positif   \n",
              "6  Servce IT sudah baik   Positif   \n",
              "\n",
              "                                  Feedback_cleansing  \\\n",
              "0                     [sudah, bagus, fast, response]   \n",
              "1  [menurut, saya, it, sudah, sangat, baik, dalam...   \n",
              "2                              [sudah, sangat, baik]   \n",
              "4            [kemudahan, akses, masuk, wifi, kantor]   \n",
              "6                                      [sudah, baik]   \n",
              "\n",
              "                      Feedback_stopwordrem                          Feedback2  \\\n",
              "0                  [bagus, fast, response]                bagus fast response   \n",
              "1        [it, baik, kontribusi, bidangnya]       it baik kontribusi bidangnya   \n",
              "2                                   [baik]                               baik   \n",
              "4  [kemudahan, akses, masuk, wifi, kantor]  kemudahan akses masuk wifi kantor   \n",
              "6                                   [baik]                               baik   \n",
              "\n",
              "                       FinalFeed  \n",
              "0            bagus fast response  \n",
              "1      it baik kontribusi bidang  \n",
              "2                           baik  \n",
              "4  mudah akses masuk wifi kantor  \n",
              "6                           baik  "
            ],
            "text/html": [
              "\n",
              "  <div id=\"df-62cef3af-688c-4f9d-ac0f-77860658188a\">\n",
              "    <div class=\"colab-df-container\">\n",
              "      <div>\n",
              "<style scoped>\n",
              "    .dataframe tbody tr th:only-of-type {\n",
              "        vertical-align: middle;\n",
              "    }\n",
              "\n",
              "    .dataframe tbody tr th {\n",
              "        vertical-align: top;\n",
              "    }\n",
              "\n",
              "    .dataframe thead th {\n",
              "        text-align: right;\n",
              "    }\n",
              "</style>\n",
              "<table border=\"1\" class=\"dataframe\">\n",
              "  <thead>\n",
              "    <tr style=\"text-align: right;\">\n",
              "      <th></th>\n",
              "      <th>No</th>\n",
              "      <th>Feedback</th>\n",
              "      <th>Hastag1</th>\n",
              "      <th>Hastag2</th>\n",
              "      <th>Sentiment</th>\n",
              "      <th>Feedback_cleansing</th>\n",
              "      <th>Feedback_stopwordrem</th>\n",
              "      <th>Feedback2</th>\n",
              "      <th>FinalFeed</th>\n",
              "    </tr>\n",
              "  </thead>\n",
              "  <tbody>\n",
              "    <tr>\n",
              "      <th>0</th>\n",
              "      <td>1</td>\n",
              "      <td>sudah bagus fast response</td>\n",
              "      <td>NaN</td>\n",
              "      <td>NaN</td>\n",
              "      <td>Neutral</td>\n",
              "      <td>[sudah, bagus, fast, response]</td>\n",
              "      <td>[bagus, fast, response]</td>\n",
              "      <td>bagus fast response</td>\n",
              "      <td>bagus fast response</td>\n",
              "    </tr>\n",
              "    <tr>\n",
              "      <th>1</th>\n",
              "      <td>2</td>\n",
              "      <td>menurut saya it sudah sangat baik dalam member...</td>\n",
              "      <td>IT</td>\n",
              "      <td>IT sudah baik</td>\n",
              "      <td>Positif</td>\n",
              "      <td>[menurut, saya, it, sudah, sangat, baik, dalam...</td>\n",
              "      <td>[it, baik, kontribusi, bidangnya]</td>\n",
              "      <td>it baik kontribusi bidangnya</td>\n",
              "      <td>it baik kontribusi bidang</td>\n",
              "    </tr>\n",
              "    <tr>\n",
              "      <th>2</th>\n",
              "      <td>3</td>\n",
              "      <td>sudah sangat baik</td>\n",
              "      <td>Baik</td>\n",
              "      <td>Servce IT sudah baik</td>\n",
              "      <td>Positif</td>\n",
              "      <td>[sudah, sangat, baik]</td>\n",
              "      <td>[baik]</td>\n",
              "      <td>baik</td>\n",
              "      <td>baik</td>\n",
              "    </tr>\n",
              "    <tr>\n",
              "      <th>4</th>\n",
              "      <td>5</td>\n",
              "      <td>kemudahan akses masuk  wifi kantor</td>\n",
              "      <td>WIFI</td>\n",
              "      <td>akses tidak mudah</td>\n",
              "      <td>Positif</td>\n",
              "      <td>[kemudahan, akses, masuk, wifi, kantor]</td>\n",
              "      <td>[kemudahan, akses, masuk, wifi, kantor]</td>\n",
              "      <td>kemudahan akses masuk wifi kantor</td>\n",
              "      <td>mudah akses masuk wifi kantor</td>\n",
              "    </tr>\n",
              "    <tr>\n",
              "      <th>6</th>\n",
              "      <td>7</td>\n",
              "      <td>sudah baik</td>\n",
              "      <td>Baik</td>\n",
              "      <td>Servce IT sudah baik</td>\n",
              "      <td>Positif</td>\n",
              "      <td>[sudah, baik]</td>\n",
              "      <td>[baik]</td>\n",
              "      <td>baik</td>\n",
              "      <td>baik</td>\n",
              "    </tr>\n",
              "  </tbody>\n",
              "</table>\n",
              "</div>\n",
              "      <button class=\"colab-df-convert\" onclick=\"convertToInteractive('df-62cef3af-688c-4f9d-ac0f-77860658188a')\"\n",
              "              title=\"Convert this dataframe to an interactive table.\"\n",
              "              style=\"display:none;\">\n",
              "        \n",
              "  <svg xmlns=\"http://www.w3.org/2000/svg\" height=\"24px\"viewBox=\"0 0 24 24\"\n",
              "       width=\"24px\">\n",
              "    <path d=\"M0 0h24v24H0V0z\" fill=\"none\"/>\n",
              "    <path d=\"M18.56 5.44l.94 2.06.94-2.06 2.06-.94-2.06-.94-.94-2.06-.94 2.06-2.06.94zm-11 1L8.5 8.5l.94-2.06 2.06-.94-2.06-.94L8.5 2.5l-.94 2.06-2.06.94zm10 10l.94 2.06.94-2.06 2.06-.94-2.06-.94-.94-2.06-.94 2.06-2.06.94z\"/><path d=\"M17.41 7.96l-1.37-1.37c-.4-.4-.92-.59-1.43-.59-.52 0-1.04.2-1.43.59L10.3 9.45l-7.72 7.72c-.78.78-.78 2.05 0 2.83L4 21.41c.39.39.9.59 1.41.59.51 0 1.02-.2 1.41-.59l7.78-7.78 2.81-2.81c.8-.78.8-2.07 0-2.86zM5.41 20L4 18.59l7.72-7.72 1.47 1.35L5.41 20z\"/>\n",
              "  </svg>\n",
              "      </button>\n",
              "      \n",
              "  <style>\n",
              "    .colab-df-container {\n",
              "      display:flex;\n",
              "      flex-wrap:wrap;\n",
              "      gap: 12px;\n",
              "    }\n",
              "\n",
              "    .colab-df-convert {\n",
              "      background-color: #E8F0FE;\n",
              "      border: none;\n",
              "      border-radius: 50%;\n",
              "      cursor: pointer;\n",
              "      display: none;\n",
              "      fill: #1967D2;\n",
              "      height: 32px;\n",
              "      padding: 0 0 0 0;\n",
              "      width: 32px;\n",
              "    }\n",
              "\n",
              "    .colab-df-convert:hover {\n",
              "      background-color: #E2EBFA;\n",
              "      box-shadow: 0px 1px 2px rgba(60, 64, 67, 0.3), 0px 1px 3px 1px rgba(60, 64, 67, 0.15);\n",
              "      fill: #174EA6;\n",
              "    }\n",
              "\n",
              "    [theme=dark] .colab-df-convert {\n",
              "      background-color: #3B4455;\n",
              "      fill: #D2E3FC;\n",
              "    }\n",
              "\n",
              "    [theme=dark] .colab-df-convert:hover {\n",
              "      background-color: #434B5C;\n",
              "      box-shadow: 0px 1px 3px 1px rgba(0, 0, 0, 0.15);\n",
              "      filter: drop-shadow(0px 1px 2px rgba(0, 0, 0, 0.3));\n",
              "      fill: #FFFFFF;\n",
              "    }\n",
              "  </style>\n",
              "\n",
              "      <script>\n",
              "        const buttonEl =\n",
              "          document.querySelector('#df-62cef3af-688c-4f9d-ac0f-77860658188a button.colab-df-convert');\n",
              "        buttonEl.style.display =\n",
              "          google.colab.kernel.accessAllowed ? 'block' : 'none';\n",
              "\n",
              "        async function convertToInteractive(key) {\n",
              "          const element = document.querySelector('#df-62cef3af-688c-4f9d-ac0f-77860658188a');\n",
              "          const dataTable =\n",
              "            await google.colab.kernel.invokeFunction('convertToInteractive',\n",
              "                                                     [key], {});\n",
              "          if (!dataTable) return;\n",
              "\n",
              "          const docLinkHtml = 'Like what you see? Visit the ' +\n",
              "            '<a target=\"_blank\" href=https://colab.research.google.com/notebooks/data_table.ipynb>data table notebook</a>'\n",
              "            + ' to learn more about interactive tables.';\n",
              "          element.innerHTML = '';\n",
              "          dataTable['output_type'] = 'display_data';\n",
              "          await google.colab.output.renderOutput(dataTable, element);\n",
              "          const docLink = document.createElement('div');\n",
              "          docLink.innerHTML = docLinkHtml;\n",
              "          element.appendChild(docLink);\n",
              "        }\n",
              "      </script>\n",
              "    </div>\n",
              "  </div>\n",
              "  "
            ]
          },
          "metadata": {},
          "execution_count": 29
        }
      ]
    },
    {
      "cell_type": "markdown",
      "source": [
        "### Naive Bayes Method"
      ],
      "metadata": {
        "id": "E4IJrddtIuKW"
      }
    },
    {
      "cell_type": "code",
      "source": [
        "from sklearn.preprocessing import LabelEncoder\n",
        "\n",
        "encoder = LabelEncoder()\n",
        "# 0 --> negatif, 1 --> netral, 2 --> positif\n",
        "\n",
        "# Menggunakan encoder untuk mengencode label sentimen menjadi angka\n",
        "df['Sentiment'] = encoder.fit_transform(df['Sentiment'])\n",
        "\n",
        "# Hasil encoded_labels adalah array angka yang mewakili label sentimen\n",
        "print(df['Sentiment'])"
      ],
      "metadata": {
        "id": "kjCjEfQzHVAs",
        "colab": {
          "base_uri": "https://localhost:8080/"
        },
        "outputId": "5e6fb735-0d63-43e0-ce33-0ae5861cd314"
      },
      "execution_count": null,
      "outputs": [
        {
          "output_type": "stream",
          "name": "stdout",
          "text": [
            "0      1\n",
            "1      2\n",
            "2      2\n",
            "4      2\n",
            "6      2\n",
            "      ..\n",
            "978    2\n",
            "979    1\n",
            "980    2\n",
            "981    2\n",
            "982    0\n",
            "Name: Sentiment, Length: 855, dtype: int64\n"
          ]
        }
      ]
    },
    {
      "cell_type": "code",
      "source": [
        "from sklearn.feature_extraction.text import CountVectorizer\n",
        "from nltk.tokenize import RegexpTokenizer\n",
        "token = RegexpTokenizer(r'[a-zA-Z0-9]+')\n",
        "cv = CountVectorizer(analyzer='word',ngram_range = (1,1),tokenizer = token.tokenize)\n",
        "text_counts = cv.fit_transform(df['FinalFeed'])"
      ],
      "metadata": {
        "colab": {
          "base_uri": "https://localhost:8080/"
        },
        "id": "5xt1b0ixBoXe",
        "outputId": "501b6fec-3f18-424c-f872-2715e1a7a3e4"
      },
      "execution_count": null,
      "outputs": [
        {
          "output_type": "stream",
          "name": "stderr",
          "text": [
            "/usr/local/lib/python3.10/dist-packages/sklearn/feature_extraction/text.py:528: UserWarning: The parameter 'token_pattern' will not be used since 'tokenizer' is not None'\n",
            "  warnings.warn(\n"
          ]
        }
      ]
    },
    {
      "cell_type": "code",
      "source": [
        "from sklearn.model_selection import train_test_split\n",
        "X=text_counts\n",
        "y=df['Sentiment']\n",
        "X_train, X_test, y_train, y_test = train_test_split(X, y, test_size=0.20,random_state=30)"
      ],
      "metadata": {
        "id": "c8XLhk1UG2JP"
      },
      "execution_count": null,
      "outputs": []
    },
    {
      "cell_type": "code",
      "source": [
        "from sklearn.naive_bayes import ComplementNB\n",
        "from sklearn.metrics import classification_report, confusion_matrix\n",
        "CNB = ComplementNB()\n",
        "CNB.fit(X_train, y_train)\n",
        "\n",
        "from sklearn import metrics\n",
        "predicted = CNB.predict(X_test)\n",
        "accuracy_score = metrics.accuracy_score(predicted, y_test)\n",
        "\n",
        "print('ComplementNB model accuracy is',str('{:04.2f}'.format(accuracy_score*100))+'%')\n",
        "print('------------------------------------------------')\n",
        "print('Confusion Matrix:')\n",
        "print(pd.DataFrame(confusion_matrix(y_test, predicted)))\n",
        "print('------------------------------------------------')\n",
        "print('Classification Report:')\n",
        "print(classification_report(y_test, predicted))"
      ],
      "metadata": {
        "colab": {
          "base_uri": "https://localhost:8080/"
        },
        "id": "9NpcharuHwJM",
        "outputId": "5f10b295-e07a-4433-d29e-40d4e13274bf"
      },
      "execution_count": null,
      "outputs": [
        {
          "output_type": "stream",
          "name": "stdout",
          "text": [
            "ComplementNB model accuracy is 61.99%\n",
            "------------------------------------------------\n",
            "Confusion Matrix:\n",
            "    0   1   2\n",
            "0  14   4   4\n",
            "1   6  13  18\n",
            "2  14  19  79\n",
            "------------------------------------------------\n",
            "Classification Report:\n",
            "              precision    recall  f1-score   support\n",
            "\n",
            "           0       0.41      0.64      0.50        22\n",
            "           1       0.36      0.35      0.36        37\n",
            "           2       0.78      0.71      0.74       112\n",
            "\n",
            "    accuracy                           0.62       171\n",
            "   macro avg       0.52      0.56      0.53       171\n",
            "weighted avg       0.64      0.62      0.63       171\n",
            "\n"
          ]
        }
      ]
    },
    {
      "cell_type": "code",
      "source": [
        "# confusion_matrix\n",
        "from sklearn import metrics\n",
        "\n",
        "cnf_matrix = metrics.confusion_matrix(y_test, predicted)\n",
        "print(cnf_matrix)\n",
        "\n",
        "class_names=[0,1,2] # name  of classes\n",
        "fig, ax = plt.subplots()\n",
        "\n",
        "# heatmap\n",
        "sns.heatmap(pd.DataFrame(cnf_matrix), annot=True, cmap=\"YlOrRd\" ,fmt='g', xticklabels=class_names,yticklabels=class_names)\n",
        "ax.xaxis.set_label_position(\"top\")\n",
        "plt.tight_layout()\n",
        "plt.title('Confusion matrix - ', y=1.1)\n",
        "plt.ylabel('Actual label')\n",
        "plt.xlabel('Predicted label')"
      ],
      "metadata": {
        "colab": {
          "base_uri": "https://localhost:8080/",
          "height": 620
        },
        "id": "bYV4HGvFHpft",
        "outputId": "a29dcc93-c3a6-443d-b74f-d0c29ce61884"
      },
      "execution_count": null,
      "outputs": [
        {
          "output_type": "stream",
          "name": "stdout",
          "text": [
            "[[14  4  4]\n",
            " [ 6 13 18]\n",
            " [14 19 79]]\n"
          ]
        },
        {
          "output_type": "execute_result",
          "data": {
            "text/plain": [
              "Text(0.5, 427.9555555555555, 'Predicted label')"
            ]
          },
          "metadata": {},
          "execution_count": 106
        },
        {
          "output_type": "display_data",
          "data": {
            "text/plain": [
              "<Figure size 640x480 with 2 Axes>"
            ],
            "image/png": "[encoded data removed]"
          },
          "metadata": {}
        }
      ]
    },
    {
      "cell_type": "markdown",
      "source": [
        "#### Multinominal NB"
      ],
      "metadata": {
        "id": "nAkTrTxYLOA5"
      }
    },
    {
      "cell_type": "code",
      "source": [
        "from sklearn.naive_bayes import MultinomialNB\n",
        "\n",
        "MNB = MultinomialNB()\n",
        "MNB.fit(X_train, y_train)\n",
        "\n",
        "predicted_multinom = MNB.predict(X_test)\n",
        "accuracy_score = metrics.accuracy_score(predicted, y_test)\n",
        "\n",
        "print('MultinominalNB model accuracy is',str('{:04.2f}'.format(accuracy_score*100))+'%')\n",
        "print('------------------------------------------------')\n",
        "print('Confusion Matrix:')\n",
        "print(pd.DataFrame(confusion_matrix(y_test, predicted_multinom)))\n",
        "print('------------------------------------------------')\n",
        "print('Classification Report:')\n",
        "print(classification_report(y_test, predicted_multinom))"
      ],
      "metadata": {
        "colab": {
          "base_uri": "https://localhost:8080/"
        },
        "id": "yNicha5wLGMD",
        "outputId": "5319141a-6ecd-4fa7-a1b7-24607985ed39"
      },
      "execution_count": null,
      "outputs": [
        {
          "output_type": "stream",
          "name": "stdout",
          "text": [
            "MultinominalNB model accuracy is 61.99%\n",
            "------------------------------------------------\n",
            "Confusion Matrix:\n",
            "   0   1   2\n",
            "0  8   6   8\n",
            "1  1   8  28\n",
            "2  8  14  90\n",
            "------------------------------------------------\n",
            "Classification Report:\n",
            "              precision    recall  f1-score   support\n",
            "\n",
            "           0       0.47      0.36      0.41        22\n",
            "           1       0.29      0.22      0.25        37\n",
            "           2       0.71      0.80      0.76       112\n",
            "\n",
            "    accuracy                           0.62       171\n",
            "   macro avg       0.49      0.46      0.47       171\n",
            "weighted avg       0.59      0.62      0.60       171\n",
            "\n"
          ]
        }
      ]
    },
    {
      "cell_type": "markdown",
      "source": [
        "#### Bernoulli NB"
      ],
      "metadata": {
        "id": "9TNES5v5LtDs"
      }
    },
    {
      "cell_type": "code",
      "source": [
        "from sklearn.naive_bayes import BernoulliNB\n",
        "\n",
        "BNB = BernoulliNB()\n",
        "BNB.fit(X_train, y_train)\n",
        "\n",
        "predicted_ber = BNB.predict(X_test)\n",
        "accuracy_score_bnb = metrics.accuracy_score(predicted,y_test)\n",
        "\n",
        "print('BernoulliNB model accuracy = ' + str('{:4.2f}'.format(accuracy_score_bnb*100))+'%')\n",
        "print('------------------------------------------------')\n",
        "print('Confusion Matrix:')\n",
        "print(pd.DataFrame(confusion_matrix(y_test, predicted_ber)))\n",
        "print('------------------------------------------------')\n",
        "print('Classification Report:')\n",
        "print(classification_report(y_test, predicted_ber))"
      ],
      "metadata": {
        "colab": {
          "base_uri": "https://localhost:8080/"
        },
        "id": "2dV7MDEhLcaB",
        "outputId": "1e18b94e-b6df-4dac-c614-da2acf01c484"
      },
      "execution_count": null,
      "outputs": [
        {
          "output_type": "stream",
          "name": "stdout",
          "text": [
            "BernoulliNB model accuracy = 61.99%\n",
            "------------------------------------------------\n",
            "Confusion Matrix:\n",
            "   0  1    2\n",
            "0  1  8   13\n",
            "1  0  1   36\n",
            "2  5  7  100\n",
            "------------------------------------------------\n",
            "Classification Report:\n",
            "              precision    recall  f1-score   support\n",
            "\n",
            "           0       0.17      0.05      0.07        22\n",
            "           1       0.06      0.03      0.04        37\n",
            "           2       0.67      0.89      0.77       112\n",
            "\n",
            "    accuracy                           0.60       171\n",
            "   macro avg       0.30      0.32      0.29       171\n",
            "weighted avg       0.47      0.60      0.52       171\n",
            "\n"
          ]
        }
      ]
    },
    {
      "cell_type": "markdown",
      "source": [
        "### Trying different n-grams:"
      ],
      "metadata": {
        "id": "E3tP2eK2ZjOl"
      }
    },
    {
      "cell_type": "markdown",
      "source": [
        "#### Bigram: ngram_range = (2,2)"
      ],
      "metadata": {
        "id": "t4X-Mzi8ZlhM"
      }
    },
    {
      "cell_type": "code",
      "source": [
        "from sklearn.feature_extraction.text import CountVectorizer\n",
        "from nltk.tokenize import RegexpTokenizer\n",
        "token = RegexpTokenizer(r'[a-zA-Z0-9]+')\n",
        "cv_twograms = CountVectorizer(stop_words='english',ngram_range = (2,2),tokenizer = token.tokenize)\n",
        "text_counts_twograms = cv_twograms.fit_transform(df['FinalFeed'])\n",
        "\n",
        "X_train, X_test, y_train, y_test = train_test_split(text_counts_twograms, df['Sentiment'], test_size=0.20,random_state=30)\n",
        "\n",
        "MNB = MultinomialNB()\n",
        "MNB.fit(X_train, y_train)\n",
        "predicted = MNB.predict(X_test)\n",
        "accuracy_score = metrics.accuracy_score(predicted, y_test)\n",
        "print('model accuracy is',str('{:04.2f}'.format(accuracy_score*100))+'%')"
      ],
      "metadata": {
        "colab": {
          "base_uri": "https://localhost:8080/"
        },
        "id": "SMy0ra8fXG8g",
        "outputId": "d3c72bd8-618b-4876-c597-a5fa293c8d5e"
      },
      "execution_count": null,
      "outputs": [
        {
          "output_type": "stream",
          "name": "stdout",
          "text": [
            "model accuracy is 39.18%\n"
          ]
        },
        {
          "output_type": "stream",
          "name": "stderr",
          "text": [
            "/usr/local/lib/python3.10/dist-packages/sklearn/feature_extraction/text.py:528: UserWarning: The parameter 'token_pattern' will not be used since 'tokenizer' is not None'\n",
            "  warnings.warn(\n"
          ]
        }
      ]
    },
    {
      "cell_type": "markdown",
      "source": [
        "####Trigram: ngram_range= (3,3)"
      ],
      "metadata": {
        "id": "l94evVNLZ7ol"
      }
    },
    {
      "cell_type": "code",
      "source": [
        "token = RegexpTokenizer(r'[a-zA-Z0-9]+')\n",
        "cv_threegrams = CountVectorizer(stop_words='english',ngram_range = (3,3),tokenizer = token.tokenize)\n",
        "text_counts_threegrams = cv_threegrams.fit_transform(df['FinalFeed'])\n",
        "\n",
        "X_train, X_test, y_train, y_test = train_test_split(text_counts_threegrams, df['Sentiment'], test_size=0.20,random_state=30)\n",
        "\n",
        "MNB = MultinomialNB()\n",
        "MNB.fit(X_train, y_train)\n",
        "predicted = MNB.predict(X_test)\n",
        "accuracy_score = metrics.accuracy_score(predicted, y_test)\n",
        "print('model accuracy is',str('{:04.2f}'.format(accuracy_score*100))+'%')"
      ],
      "metadata": {
        "colab": {
          "base_uri": "https://localhost:8080/"
        },
        "id": "Ba7x_qBDXr60",
        "outputId": "bc912669-0182-43db-8b19-701d566ff105"
      },
      "execution_count": null,
      "outputs": [
        {
          "output_type": "stream",
          "name": "stdout",
          "text": [
            "model accuracy is 40.35%\n"
          ]
        },
        {
          "output_type": "stream",
          "name": "stderr",
          "text": [
            "/usr/local/lib/python3.10/dist-packages/sklearn/feature_extraction/text.py:528: UserWarning: The parameter 'token_pattern' will not be used since 'tokenizer' is not None'\n",
            "  warnings.warn(\n"
          ]
        }
      ]
    },
    {
      "cell_type": "markdown",
      "source": [
        "###TF-IDF: Term Frequency-Inverse Document Frequency"
      ],
      "metadata": {
        "id": "tFV5IDOfZ-pA"
      }
    },
    {
      "cell_type": "code",
      "source": [
        "from sklearn.feature_extraction.text import TfidfVectorizer\n",
        "tfidf = TfidfVectorizer()\n",
        "text_count_2 = tfidf.fit_transform(df['FinalFeed'])"
      ],
      "metadata": {
        "id": "vnhSKbiuX6oT"
      },
      "execution_count": null,
      "outputs": []
    },
    {
      "cell_type": "code",
      "source": [
        "#splitting the data in test and training\n",
        "#from sklearn.model_selection() import train_test_split()\n",
        "x_train, x_test, y_train, y_test = train_test_split(text_count_2, df['Sentiment'],test_size=0.20,random_state=30)"
      ],
      "metadata": {
        "id": "gNYo1-N0YACW"
      },
      "execution_count": null,
      "outputs": []
    },
    {
      "cell_type": "code",
      "source": [
        "MNB.fit(x_train, y_train)\n",
        "accuracy_score_mnb = metrics.accuracy_score(MNB.predict(x_test), y_test)\n",
        "\n",
        "print('accuracy_score_mnb = '+str('{:4.2f}'.format(accuracy_score_mnb*100))+'%')"
      ],
      "metadata": {
        "colab": {
          "base_uri": "https://localhost:8080/"
        },
        "id": "2TFEOQXOYDXU",
        "outputId": "39d12e8c-d5fd-423e-d7f8-9ccd8c997173"
      },
      "execution_count": null,
      "outputs": [
        {
          "output_type": "stream",
          "name": "stdout",
          "text": [
            "accuracy_score_mnb = 66.08%\n"
          ]
        }
      ]
    },
    {
      "cell_type": "code",
      "source": [
        "#fitting the model with BNB\n",
        "BNB.fit(x_train, y_train)\n",
        "accuracy_score_bnb = metrics.accuracy_score(BNB.predict(x_test), y_test)\n",
        "print('accuracy_score_bnb = '+str('{:4.2f}'.format(accuracy_score_bnb*100))+'%')"
      ],
      "metadata": {
        "colab": {
          "base_uri": "https://localhost:8080/"
        },
        "id": "Ptdd6TPhYI2W",
        "outputId": "3706f442-72c6-4f6a-f29f-d6c61805de00"
      },
      "execution_count": null,
      "outputs": [
        {
          "output_type": "stream",
          "name": "stdout",
          "text": [
            "accuracy_score_bnb = 59.65%\n"
          ]
        }
      ]
    },
    {
      "cell_type": "code",
      "source": [
        "# fitting the model with CNB\n",
        "CNB.fit(x_train, y_train)\n",
        "accuracy_score_cnb = metrics.accuracy_score(CNB.predict(x_test), y_test)\n",
        "print('accuracy_score_cnb = '+str('{:4.2f}'.format(accuracy_score_cnb*100))+'%')"
      ],
      "metadata": {
        "colab": {
          "base_uri": "https://localhost:8080/"
        },
        "id": "T6aBQAVNYLj6",
        "outputId": "641abc6d-c701-43f1-c487-73bd59ea61c4"
      },
      "execution_count": null,
      "outputs": [
        {
          "output_type": "stream",
          "name": "stdout",
          "text": [
            "accuracy_score_cnb = 63.16%\n"
          ]
        }
      ]
    }
  ]
}